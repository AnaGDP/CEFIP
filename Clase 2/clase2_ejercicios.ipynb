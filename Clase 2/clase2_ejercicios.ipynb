{
 "cells": [
  {
   "cell_type": "markdown",
   "id": "2b6c62d7",
   "metadata": {},
   "source": [
    "#  <CENTER>INTRODUCCIÓN A PYTHON - CEFIP<CENTER>\n",
    "   \n",
    "## <CENTER>OCTUBRE 2023<CENTER>"
   ]
  },
  {
   "cell_type": "markdown",
   "id": "4a4f6a14",
   "metadata": {},
   "source": [
    "# <CENTER> Repaso clase anterior\n",
    "\n",
    "- Anaconda, Jupyter Notebook, GitHub.\n",
    "- Tipos de datos\n",
    "- Operaciones con datos\n",
    "- Variables\n",
    "- Funciones\n",
    "- Condicionales\n",
    "- Módulos\n"
   ]
  },
  {
   "cell_type": "markdown",
   "id": "01afcc3c",
   "metadata": {},
   "source": [
    "# <CENTER> BUCLES\n",
    "\n",
    "Existen dos tipos de bucles comunmente usados en python, los `for` loops y los `while` loops. "
   ]
  },
  {
   "cell_type": "markdown",
   "id": "f32faeff",
   "metadata": {},
   "source": [
    "## FOR LOOPS\n",
    "\n",
    "Con los `for` loops se desea iterar sobre una secuencia (como una lista, una tupla, una cadena de texto o un rango numérico). Serán muy similares a los loops que solemos usar en Stata (`foreach`, `forvalues`)."
   ]
  },
  {
   "cell_type": "code",
   "execution_count": null,
   "id": "684bd2b2",
   "metadata": {},
   "outputs": [],
   "source": [
    "numeros=[7,5,6,15,20]\n",
    "y=0\n",
    "for i in numeros: \n",
    "    y+=i\n",
    "print(f\"La suma de los números es {y}\")    "
   ]
  },
  {
   "cell_type": "markdown",
   "id": "42841cb8",
   "metadata": {},
   "source": [
    "**Notar:** en el bloque anterior iteramos sobre una **lista** cuyos valores estaban predeterminados. Cualquier tipo de lista puede ser usada para un ciclo `for`.\n",
    "\n",
    "**Notar 2:** poniendo la f adentro del print pudimos insertar valores de variables u expresiones directamente en una cadena de texto sin tener que concatenar manualmente las partes de la cadena."
   ]
  },
  {
   "cell_type": "code",
   "execution_count": null,
   "id": "0727c194",
   "metadata": {
    "scrolled": true
   },
   "outputs": [],
   "source": [
    "for x in range(0,16,2): \n",
    "    print(x)\n",
    "print(\"Estoy fuera del bucle\")"
   ]
  },
  {
   "cell_type": "markdown",
   "id": "48451078",
   "metadata": {},
   "source": [
    "**Recordar**: range(desde, hasta, paso) no incluye el `hasta`. \n",
    "\n",
    "Como se ve, puedo iterar usando otras letras, no solo i.\n"
   ]
  },
  {
   "cell_type": "code",
   "execution_count": null,
   "id": "80dc1afd",
   "metadata": {},
   "outputs": [],
   "source": [
    "veces = int(input(\"¿Cuántas veces quiere que le salude? \"))\n",
    "for i in range(veces):\n",
    "    print(\"Hola \", end=\"\")\n",
    "print()\n",
    "print(\"Adiós\")"
   ]
  },
  {
   "cell_type": "markdown",
   "id": "0c89b870",
   "metadata": {},
   "source": [
    "**Notar:** la función `input()` permite que tu programa interactúe con el usuario, solicitando información que el usuario debe proporcionar a través del teclado.\n",
    "\n",
    "**Notar 2:** `input()` siempre devuelve una cadena de caracteres (string), al usar `int(input())`,  estamos convirtiendo esa cadena en un número entero. "
   ]
  },
  {
   "cell_type": "code",
   "execution_count": null,
   "id": "2ff25b88",
   "metadata": {},
   "outputs": [],
   "source": [
    "#Nos puede interesar ver la posición además del número sobre el que itera:\n",
    "for indice, x in enumerate(range(-2,2), start=1):\n",
    "    print(indice, x)"
   ]
  },
  {
   "cell_type": "markdown",
   "id": "fa38f1f1",
   "metadata": {},
   "source": [
    "El índice generado por enumerate() comienza en 0 por defecto.\n",
    "\n",
    "Con `start` le indicamos un valor inicial  diferente. \n",
    "\n",
    "La función `enumerate()` es útil cuando necesitas tanto el valor como el índice de los elementos en una secuencia durante la iteración."
   ]
  },
  {
   "cell_type": "code",
   "execution_count": null,
   "id": "4be4bc71",
   "metadata": {},
   "outputs": [],
   "source": [
    "tabla_2 = [x*2 for x in range(1,11)]\n",
    "\n",
    "print(tabla_2)"
   ]
  },
  {
   "cell_type": "markdown",
   "id": "c87a0a30",
   "metadata": {},
   "source": [
    "El ejemplo anterior nos muestra que podemos crear una lista por ejemplo a partir de un bucle. Con esta sintaxis también podemos crear una tupla, diccionario, etc."
   ]
  },
  {
   "cell_type": "markdown",
   "id": "cbb6773f",
   "metadata": {},
   "source": [
    "## WHILE LOOPS\n",
    "\n",
    "Los utilizaremos cuando el número de iteraciones no es conocido al comenzar. Si bien es Stata también existen, no los usamos tan seguido. "
   ]
  },
  {
   "cell_type": "markdown",
   "id": "37bbf410",
   "metadata": {},
   "source": [
    "Para comenzar aprovechemos para importar un módulo que puede ser de utilidad `random`. En este caso lo usaremos para partir de un número aleatorio entero. "
   ]
  },
  {
   "cell_type": "code",
   "execution_count": null,
   "id": "ed4c6251",
   "metadata": {},
   "outputs": [],
   "source": [
    "import random"
   ]
  },
  {
   "cell_type": "code",
   "execution_count": null,
   "id": "65720fc5",
   "metadata": {},
   "outputs": [],
   "source": [
    "n = 0\n",
    "favorite = int(input(\"¿Cuál es su número preferido? \"))\n",
    "while n < 100:\n",
    "    n += 1\n",
    "    draw = random.randint(1, 49) # e.g. German lottery\n",
    "    if draw == favorite:\n",
    "        print(\"Salió mi número preferido :)\")\n",
    "        break\n",
    "else:\n",
    "    print(\"Mi número preferido no apareció:(\")\n",
    "print(f\"¡Probé {n} veces!\")\n"
   ]
  },
  {
   "cell_type": "markdown",
   "id": "79205a15",
   "metadata": {},
   "source": [
    "**Break**: Cuando se encuentra una declaración `break` dentro de un bucle, el programa sale  del bucle y continúa ejecutando el código que sigue después del bucle."
   ]
  },
  {
   "cell_type": "markdown",
   "id": "2b1c1b96",
   "metadata": {},
   "source": [
    "# <CENTER>TRABAJAR CON DATOS EN PYTHON\n",
    "    \n",
    "# <CENTER> PANDAS\n",
    "    \n",
    "pandas es una biblioteca esencial para la manipulación y análisis de datos en Python debido a su facilidad de uso, flexibilidad y potencia. Se integra con otras herramientas de ciencia de datos y machine learning."
   ]
  },
  {
   "cell_type": "code",
   "execution_count": null,
   "id": "c62b1129",
   "metadata": {},
   "outputs": [],
   "source": [
    "!pip install xlwt\n",
    "!pip install pandas"
   ]
  },
  {
   "cell_type": "markdown",
   "id": "d6010577",
   "metadata": {},
   "source": [
    "Lo primero que tenemos que hacer con una librería es instalarla en caso de que no esté (Pandas es una de las librerías que se encuentra preinstalada con Anaconda). No es necesario volverlo a instalar si ya lo tenemos instalado. "
   ]
  },
  {
   "cell_type": "code",
   "execution_count": null,
   "id": "ff5cc654",
   "metadata": {},
   "outputs": [],
   "source": [
    "import pandas as pd\n",
    "import numpy as np"
   ]
  },
  {
   "cell_type": "markdown",
   "id": "d58b9b15",
   "metadata": {},
   "source": [
    "Una vez instalado debemos importar la biblioteca, esto hay que hacerlo  **todas las veces que abrimos el notebook**.\n",
    "\n",
    "**pd** es la abreviatura (o alias) tradicional para pandas en la literatura. "
   ]
  },
  {
   "cell_type": "markdown",
   "id": "5d2da68b",
   "metadata": {},
   "source": [
    "# Estructuras de datos de Pandas:\n",
    "## Series\n",
    "\n",
    "- Será una columna unidimensional, donde podemos tener todo tipo de datos.\n",
    "\n",
    "- Se suele mostrar con los índices a la izquierda, que por default van de 0 a N-1. "
   ]
  },
  {
   "cell_type": "code",
   "execution_count": null,
   "id": "9128f347",
   "metadata": {},
   "outputs": [],
   "source": [
    "#Comencemos por crear una lista en Pandas\n",
    "\n",
    "proyectos_CEFIP=pd.Series([\"impuestos provinciales\", \"impuestos municipales\", \"tarifas de servicios\", \"gasto por jurisdiccion\"])\n",
    "\n",
    "proyectos_CEFIP"
   ]
  },
  {
   "cell_type": "markdown",
   "id": "2e76bfe5",
   "metadata": {},
   "source": [
    "La sintaxis de creación de series sigue la estructura: \n",
    "\n",
    "`s = pd.Series(datos, index=index)`\n",
    "\n",
    "En el caso anterior, no asignamos nada al `index`, y le asignó el default.\n",
    "\n"
   ]
  },
  {
   "cell_type": "code",
   "execution_count": null,
   "id": "38a06e46",
   "metadata": {},
   "outputs": [],
   "source": [
    "proyectos_CEFIP2=pd.Series([\"impuestos provinciales\", \"impuestos municipales\", \"tarifas de servicios\"], index=[\"a\", \"b\", \"a\"])\n",
    "proyectos_CEFIP2"
   ]
  },
  {
   "cell_type": "code",
   "execution_count": null,
   "id": "f93a0ec8",
   "metadata": {},
   "outputs": [],
   "source": [
    "unidades_geograficas=pd.Series([\"5 provincias argentinas\", \"135 municipios bonaerenses\", \"Empresas distribuidoras\"])\n",
    "unidades_geograficas"
   ]
  },
  {
   "cell_type": "markdown",
   "id": "54953ee8",
   "metadata": {},
   "source": [
    "## DataFrames\n",
    "\n",
    "Los **DataFrames** son una estructura de datos tabular bidimensional con etiquetas en las línea y columnas. Son la estructura más común en Pandas.\n",
    "\n",
    "\n",
    "Como las Series, los DataFrames son capaces de almacenar cualquier tipo de datos y cada columna puede tener un tipo distinto. La forma básica de\n",
    "creación de un DataFrame es:\n",
    "\n",
    "`df = pd.DataFrame(datos, index=index, columns=columns)`\n",
    "\n",
    "El argumento datos puede ser por ejemplo un diccionario, una lista, una Series u otro DataFrame."
   ]
  },
  {
   "cell_type": "code",
   "execution_count": null,
   "id": "0fc86685",
   "metadata": {},
   "outputs": [],
   "source": [
    "# Creando un dataframe de autos y colores.\n",
    "data_proyectos = pd.DataFrame({\"Proyecto\": proyectos_CEFIP, \n",
    "                               \"Unidades geográficas\": unidades_geograficas})"
   ]
  },
  {
   "cell_type": "code",
   "execution_count": null,
   "id": "1406422c",
   "metadata": {},
   "outputs": [],
   "source": [
    "data_proyectos"
   ]
  },
  {
   "cell_type": "markdown",
   "id": "60bad3c1",
   "metadata": {},
   "source": [
    "### Los diccionarios son parecidos a las listas pero cada elemento implica clave-valor"
   ]
  },
  {
   "cell_type": "markdown",
   "id": "fd2762b8",
   "metadata": {},
   "source": [
    "Notar que cuando los índices no coinciden (sea el default como en este caso o en otro), es decir que no puede matchear las unidades, encontramos un valor missing, que en Pandas la identificaremos con `NaN`"
   ]
  },
  {
   "cell_type": "code",
   "execution_count": null,
   "id": "6e3edbe8",
   "metadata": {
    "scrolled": true
   },
   "outputs": [],
   "source": [
    "data_municipios = pd.DataFrame({\"Proyecto\": [\"Adolfo Alsina\",\"Alberti\", \"Arrecifes\", \"Avellaneda\"],\n",
    "                                \"Poblacion\": [17460, 12650, 32229, 369556],\n",
    "                               \"Act. Económica\": [\"Agricultura\", \"Agricultura\", \"Agricultura\", \"Manufactura\"]})\n",
    "data_municipios"
   ]
  },
  {
   "cell_type": "markdown",
   "id": "af8dd3aa",
   "metadata": {},
   "source": [
    "En el ejemplo anteriopr creamos el DataFrame a partir de un diccionario de listas. Se asingó el índice por default (como pasaba con la serie). "
   ]
  },
  {
   "cell_type": "markdown",
   "id": "69de8eba",
   "metadata": {},
   "source": [
    "## Importar datos\n",
    "\n",
    "Importar datos es una de las formas de crear un dataframe, a partir de un archivo ya existente (en formato csv, xls, dta, etc.). "
   ]
  },
  {
   "cell_type": "code",
   "execution_count": null,
   "id": "986f2235",
   "metadata": {},
   "outputs": [],
   "source": [
    "dataset=pd.read_csv(r\"C:\\Users\\USUARIO\\Dropbox\\CEFIP\\python\\jupyter-notebooks\\Notebooks\\Clase 2\\db.csv\", sep=\";\")"
   ]
  },
  {
   "cell_type": "code",
   "execution_count": null,
   "id": "884c78f5",
   "metadata": {},
   "outputs": [],
   "source": [
    "dataset\n"
   ]
  },
  {
   "cell_type": "markdown",
   "id": "529b98dc",
   "metadata": {},
   "source": [
    "## Analizando lo que tenemos/ lo que nos muestra: \n",
    "- Primera columna con los índices. \n",
    "- Nos muestra las primeras 5 y últimas 5 observaciones.\n",
    "- Cant de filas (obs), cant de columnas (variables). \n",
    "- Punto es separador decimal.\n",
    "- Tenemos distintos timpos en todas las columnas."
   ]
  },
  {
   "cell_type": "code",
   "execution_count": null,
   "id": "f3e7f96d",
   "metadata": {},
   "outputs": [],
   "source": [
    "df = pd.read_stata(r\"C:\\Users\\USUARIO\\Dropbox\\CEFIP\\python\\CEFIP\\Clase 2\\datos_bp.dta\") \n",
    "df"
   ]
  },
  {
   "cell_type": "code",
   "execution_count": null,
   "id": "cdb430ae",
   "metadata": {
    "scrolled": false
   },
   "outputs": [],
   "source": [
    "dataset"
   ]
  },
  {
   "cell_type": "markdown",
   "id": "803d1d0c",
   "metadata": {},
   "source": [
    "## Repasando:\n",
    "\n",
    "- Importar de csv `data=pd.read_csv('archivo.csv')`\n",
    "- Importar de excel `data = pd.read_excel('archivo.xlsx', sheet_name='hoja1')`\n",
    "- Importar de stata `data = pd.read_stata('archivo.dta')`\n",
    "- Importar de una web `data = pd.read_html('link')`\n",
    "\n",
    "\n",
    "## Tener en cuenta: \n",
    "En **windows** los directorios son cadena de texto con barras invertidas (\\) como separadores. Las barras invertidas son caracteres de escape en las cadenas de Python, por lo que es necesario utilizar el prefijo \"r\" antes de la cadena para indicar que es una \"cadena cruda\" y que los caracteres de escape no deben interpretarse. (En **Mac** no se tiene este problema). \n",
    "\n",
    "\n",
    "### Disgresión: caracteres de escape \n",
    "Dentro de las cadenas de caracteres `\\n` implica un salto de línea, `\\t` una tabulación, y si queremos escribir una barra invertida en una cadena hay que poner `\\\\`"
   ]
  },
  {
   "cell_type": "code",
   "execution_count": null,
   "id": "48239ff5",
   "metadata": {},
   "outputs": [],
   "source": [
    "print(\"Hola \\nMundo\")\n",
    "print(\"Hola \\tMundo\")\n",
    "print(\"Hola \\\\Mundo\")"
   ]
  },
  {
   "cell_type": "markdown",
   "id": "69f5010a",
   "metadata": {},
   "source": [
    "## Volviendo...\n",
    "\n",
    "### Importemos desde una web\n",
    "\n",
    "¿Qué pasa si me quiero importar una tabla desde wikipedia?"
   ]
  },
  {
   "cell_type": "code",
   "execution_count": null,
   "id": "378a93ab",
   "metadata": {},
   "outputs": [],
   "source": [
    "tablas = pd.read_html('https://es.wikipedia.org/wiki/Anexo:Partidos_de_la_provincia_de_Buenos_Aires', encoding='utf-8')\n",
    "tablas"
   ]
  },
  {
   "cell_type": "code",
   "execution_count": null,
   "id": "c4b9a10f",
   "metadata": {},
   "outputs": [],
   "source": [
    "tabla=tablas[1]\n",
    "tabla"
   ]
  },
  {
   "cell_type": "markdown",
   "id": "3c6e6701",
   "metadata": {},
   "source": [
    "## Exportación de los datos\n",
    "\n",
    "Supongamos que queremos exportar los datos de la tabla anterior a distintos formatos (stata, excel).\n"
   ]
  },
  {
   "cell_type": "code",
   "execution_count": null,
   "id": "0e88e93e",
   "metadata": {},
   "outputs": [],
   "source": [
    "tabla.to_csv(\"C:\\\\Users\\\\USUARIO\\\\Dropbox\\\\CEFIP\\\\python\\\\jupyter-notebooks\\\\Notebooks\\\\Clase 2\\\\exported-municipios.csv\")"
   ]
  },
  {
   "cell_type": "code",
   "execution_count": null,
   "id": "a75e9fa8",
   "metadata": {
    "scrolled": false
   },
   "outputs": [],
   "source": [
    "tabla.to_excel(\"C:\\\\Users\\\\USUARIO\\\\Dropbox\\\\CEFIP\\\\python\\\\jupyter-notebooks\\\\Notebooks\\\\Clase 2\\\\exported-municipios.xls\")"
   ]
  },
  {
   "cell_type": "code",
   "execution_count": null,
   "id": "9ebba158",
   "metadata": {
    "scrolled": true
   },
   "outputs": [],
   "source": [
    "tabla.to_stata(\"C:\\\\Users\\\\USUARIO\\\\Dropbox\\\\CEFIP\\\\python\\\\jupyter-notebooks\\\\Notebooks\\\\Clase 2\\\\exported-municipios.dta\", version=118)"
   ]
  },
  {
   "cell_type": "markdown",
   "id": "a31e2781",
   "metadata": {},
   "source": [
    "### Notar:\n",
    "En stata, si no especifico versión 118, por default python toma stata 10, que no soporta la codificación de nuestro archivo."
   ]
  },
  {
   "cell_type": "markdown",
   "id": "8c7283c0",
   "metadata": {},
   "source": [
    "## Exploración de los datos\n",
    "\n",
    "Comencemos por entender qué hay dentro de nuestro dataframe"
   ]
  },
  {
   "cell_type": "code",
   "execution_count": null,
   "id": "cf6cbbe0",
   "metadata": {
    "scrolled": true
   },
   "outputs": [],
   "source": [
    "df.describe()"
   ]
  },
  {
   "cell_type": "code",
   "execution_count": null,
   "id": "9731db97",
   "metadata": {},
   "outputs": [],
   "source": [
    "df"
   ]
  },
  {
   "cell_type": "markdown",
   "id": "08d047b5",
   "metadata": {},
   "source": [
    "`.describe()` nos da una vista rápida con información estadística de las columnas **numéricas**."
   ]
  },
  {
   "cell_type": "code",
   "execution_count": null,
   "id": "c1237793",
   "metadata": {},
   "outputs": [],
   "source": [
    "df.info()"
   ]
  },
  {
   "cell_type": "markdown",
   "id": "2456782c",
   "metadata": {},
   "source": [
    "`.info` nos da información acerca del dataframe, aclarando qué tipo de datos tenemos (notar que 3 de nuestras columnas son categóricas), si tiene valores missings, cuántas filas y columnas tenemos, etc. \n",
    "\n",
    "Cuando una serie de datos se almacena con el tipo de datos `category`, Pandas le asigna un número entero único a cada valor distinto en la serie y mantiene un mapeo entre los valores originales y sus correspondientes números enteros. Esto permite ahorrar memoria. "
   ]
  },
  {
   "cell_type": "code",
   "execution_count": null,
   "id": "8a26e33d",
   "metadata": {},
   "outputs": [],
   "source": [
    "# Mostrar las primeros 5 filas de mi dataframe\n",
    "df.head()"
   ]
  },
  {
   "cell_type": "code",
   "execution_count": null,
   "id": "84c9bf8f",
   "metadata": {},
   "outputs": [],
   "source": [
    "# Mostrar las primeros n filas de mi dataframe\n",
    "df.head(7)"
   ]
  },
  {
   "cell_type": "code",
   "execution_count": null,
   "id": "00a194a0",
   "metadata": {},
   "outputs": [],
   "source": [
    "# Mostrar las ultimas n filas de mi dataframe\n",
    "df.tail(7)"
   ]
  },
  {
   "cell_type": "markdown",
   "id": "e858bfb2",
   "metadata": {},
   "source": [
    "### Estadísticas descriptivas"
   ]
  },
  {
   "cell_type": "markdown",
   "id": "3019e365",
   "metadata": {},
   "source": [
    "Si quiero que encontrar una característica de una columna en particular debo hacer `df['mi_variable'].estadistico()`"
   ]
  },
  {
   "cell_type": "code",
   "execution_count": null,
   "id": "932c6422",
   "metadata": {},
   "outputs": [],
   "source": [
    "df[\"bp\"].mean()"
   ]
  },
  {
   "cell_type": "code",
   "execution_count": null,
   "id": "7a05f747",
   "metadata": {},
   "outputs": [],
   "source": [
    "df[\"patient\"].median()"
   ]
  },
  {
   "cell_type": "code",
   "execution_count": null,
   "id": "91403635",
   "metadata": {},
   "outputs": [],
   "source": [
    "df[\"bp\"].quantile(q = [0.25, 0.5, 0.75])"
   ]
  },
  {
   "cell_type": "code",
   "execution_count": null,
   "id": "bd0627a6",
   "metadata": {},
   "outputs": [],
   "source": [
    "df[\"bp\"].quantile()"
   ]
  },
  {
   "cell_type": "code",
   "execution_count": null,
   "id": "7570b693",
   "metadata": {},
   "outputs": [],
   "source": [
    "df['bp'].std()"
   ]
  },
  {
   "cell_type": "code",
   "execution_count": null,
   "id": "b3ba5e3c",
   "metadata": {},
   "outputs": [],
   "source": [
    "df['bp'].std()"
   ]
  },
  {
   "cell_type": "markdown",
   "id": "b4a3761a",
   "metadata": {},
   "source": [
    "Quizás nos interese agrupar por una variable y comparar entre grupos:"
   ]
  },
  {
   "cell_type": "code",
   "execution_count": null,
   "id": "839b8705",
   "metadata": {},
   "outputs": [],
   "source": [
    "df.groupby([\"sex\"]).mean()"
   ]
  },
  {
   "cell_type": "markdown",
   "id": "e5c92f59",
   "metadata": {},
   "source": [
    "## Modificando los datos\n",
    "\n",
    "Hasta ahora sabemos crear datos, importarlos, exportarlos y aprendimos algo sobre describirlos. Pero probablemente tengamos interés en modificarlos u hacer alguna operación con ellos. "
   ]
  },
  {
   "cell_type": "markdown",
   "id": "e2c442b6",
   "metadata": {},
   "source": [
    "Podemos eliminar duplicados"
   ]
  },
  {
   "cell_type": "code",
   "execution_count": null,
   "id": "0d983dfc",
   "metadata": {},
   "outputs": [],
   "source": [
    "df.drop_duplicates()"
   ]
  },
  {
   "cell_type": "markdown",
   "id": "b3771b9a",
   "metadata": {},
   "source": [
    "Podemos ordenar según alguna variable:"
   ]
  },
  {
   "cell_type": "code",
   "execution_count": null,
   "id": "2a2b941e",
   "metadata": {},
   "outputs": [],
   "source": [
    "#Orden ascendente\n",
    "df.sort_values('bp')"
   ]
  },
  {
   "cell_type": "code",
   "execution_count": null,
   "id": "e462f55a",
   "metadata": {},
   "outputs": [],
   "source": [
    "#Orden descendente\n",
    "df.sort_values('bp', ascending=False)"
   ]
  },
  {
   "cell_type": "markdown",
   "id": "19554512",
   "metadata": {},
   "source": [
    "En nuestra base de datos el id es el paciente que estamos viendo, puede ser buena idea establecer la variable `patient` como índice. (Notar que me desaparece de las columnas)"
   ]
  },
  {
   "cell_type": "code",
   "execution_count": null,
   "id": "c7cc61c9",
   "metadata": {},
   "outputs": [],
   "source": [
    "df = df.set_index('patient')\n",
    "print(df)"
   ]
  },
  {
   "cell_type": "markdown",
   "id": "fa6e4db9",
   "metadata": {},
   "source": [
    "Lo anterior puede interesarnos por ejemplo para poder **encontrar** al paciente n, para el que tenemos más de una observación (en este caso before y after) y ambas tienen el mismo **índice**. Lo haremos con la función `loc`:"
   ]
  },
  {
   "cell_type": "code",
   "execution_count": null,
   "id": "e66acfe8",
   "metadata": {
    "scrolled": true
   },
   "outputs": [],
   "source": [
    "df.loc[1]"
   ]
  },
  {
   "cell_type": "markdown",
   "id": "ee9002ff",
   "metadata": {},
   "source": [
    "También nos puede interesar quedarnos con una **posición** en particular"
   ]
  },
  {
   "cell_type": "code",
   "execution_count": null,
   "id": "6b0c23da",
   "metadata": {},
   "outputs": [],
   "source": [
    "df.iloc[0]"
   ]
  },
  {
   "cell_type": "markdown",
   "id": "2b274173",
   "metadata": {},
   "source": [
    "Quizás nos interesa quedarnos con los índices hasta un valor:"
   ]
  },
  {
   "cell_type": "code",
   "execution_count": null,
   "id": "d1e58f9e",
   "metadata": {
    "scrolled": true
   },
   "outputs": [],
   "source": [
    "df.loc[:3]"
   ]
  },
  {
   "cell_type": "markdown",
   "id": "dbaa41e4",
   "metadata": {},
   "source": [
    "Notar que en el ejemplo anterior, me toma los índices **hasta el 3 inclusive**. En el siguiente tomará desde el 117 en adelante."
   ]
  },
  {
   "cell_type": "code",
   "execution_count": null,
   "id": "c722f85a",
   "metadata": {},
   "outputs": [],
   "source": [
    "df.loc[117:]"
   ]
  },
  {
   "cell_type": "markdown",
   "id": "56ba6980",
   "metadata": {},
   "source": [
    "Si quisiéramos convertir de vuelta a patient en una variable:"
   ]
  },
  {
   "cell_type": "code",
   "execution_count": null,
   "id": "8d4b85c6",
   "metadata": {},
   "outputs": [],
   "source": [
    "df['Pacient'] = df.index\n",
    "df"
   ]
  },
  {
   "cell_type": "markdown",
   "id": "d35372fe",
   "metadata": {},
   "source": [
    "Y si quiero volver los índices al default tambvién lo puedo hacer usando `reset_index()` (en nuestro caso sería `df.reset_index()`"
   ]
  },
  {
   "cell_type": "markdown",
   "id": "080a4490",
   "metadata": {},
   "source": [
    "Puede interesarnos crear una nueva variable, a partir de una condición de otra variable."
   ]
  },
  {
   "cell_type": "code",
   "execution_count": null,
   "id": "3c60714d",
   "metadata": {
    "scrolled": false
   },
   "outputs": [],
   "source": [
    "\n",
    "def calcular_riesgo(bp):\n",
    "    if bp > 170:\n",
    "        return 1\n",
    "    else:\n",
    "        return 0\n",
    "\n",
    "\n",
    "df['riesgo'] = df['bp'].apply(calcular_riesgo)\n",
    "print(df)"
   ]
  },
  {
   "cell_type": "markdown",
   "id": "d6c82e89",
   "metadata": {},
   "source": [
    "Quizás nos interese crear variables más sencillas"
   ]
  },
  {
   "cell_type": "code",
   "execution_count": null,
   "id": "ac0b5d7a",
   "metadata": {
    "scrolled": false
   },
   "outputs": [],
   "source": [
    "#Si queremos darle el mismo valor a toda la serie\n",
    "df[\"diabetic\"]=False \n",
    "df"
   ]
  },
  {
   "cell_type": "markdown",
   "id": "5ec822bb",
   "metadata": {},
   "source": [
    "Puede que queramos eliminar una variable"
   ]
  },
  {
   "cell_type": "code",
   "execution_count": null,
   "id": "b8366301",
   "metadata": {},
   "outputs": [],
   "source": [
    "df = df.drop(\"diabetic\", axis=1)\n",
    "df"
   ]
  },
  {
   "cell_type": "markdown",
   "id": "34f3120f",
   "metadata": {},
   "source": [
    "Axis=1 implica las columnas, axis=0 son las filas."
   ]
  },
  {
   "cell_type": "code",
   "execution_count": null,
   "id": "7b83e46d",
   "metadata": {
    "scrolled": false
   },
   "outputs": [],
   "source": [
    "# transformamos la columna a minusculas\n",
    "df[\"when\"] = df[\"when\"].str.lower()\n",
    "df"
   ]
  },
  {
   "cell_type": "markdown",
   "id": "a137e6f7",
   "metadata": {},
   "source": [
    "Puede que me interese asignar etiquetas a las variables:"
   ]
  },
  {
   "cell_type": "markdown",
   "id": "ae160d3d",
   "metadata": {},
   "source": [
    "Puede interesarnos quedarnos con una parte del dataframe, tomando una **muestra aleatoria**. Para esto usaremos `.sample(frac=0.2)` por ejemplo, para dar cuenta que queremos quedarnos con el 20% de la muestra. "
   ]
  },
  {
   "cell_type": "code",
   "execution_count": null,
   "id": "99b9fe5e",
   "metadata": {
    "scrolled": false
   },
   "outputs": [],
   "source": [
    "df_sample=df.sample(frac=0.05)\n",
    "df_sample.describe"
   ]
  },
  {
   "cell_type": "markdown",
   "id": "2c75c05d",
   "metadata": {},
   "source": [
    "# Valores missing\n",
    "\n",
    "Como sabemos, muchas veces trabajamos con bases de datos que tienen valores missings. En primer lugar es importante poder saber que los enemos, para luego saber cómo trabajar con ellos. "
   ]
  },
  {
   "cell_type": "code",
   "execution_count": null,
   "id": "6e7d3df9",
   "metadata": {},
   "outputs": [],
   "source": [
    "dataset.info()"
   ]
  },
  {
   "cell_type": "markdown",
   "id": "5d4bdbb7",
   "metadata": {},
   "source": [
    "Notar que en la variable kilometraje tenemos 203 valores non-null, contra 258 de las otras columnas. Miremos más en detalle qué sucede utilizando la función `isna()` para identificar los datos ausentes: "
   ]
  },
  {
   "cell_type": "code",
   "execution_count": null,
   "id": "ad9efdcd",
   "metadata": {},
   "outputs": [],
   "source": [
    "dataset[dataset.Kilometraje.isna()]"
   ]
  },
  {
   "cell_type": "markdown",
   "id": "4f31d8c0",
   "metadata": {},
   "source": [
    "La coincidencia es que todos los missings en km son los autos nuevos. Entonces, puede ser buena idea transformar esos valores NaN en 0. Lo haremos utilizando la función `fillna()`\n",
    "\n",
    "Para [leer más](https://pandas.pydata.org/pandas-docs/stable/reference/api/pandas.DataFrame.fillna.html) sobre esta opción"
   ]
  },
  {
   "cell_type": "code",
   "execution_count": null,
   "id": "2524fb02",
   "metadata": {},
   "outputs": [],
   "source": [
    "dataset.fillna(value = {'Kilometraje': 0}, inplace = True)\n",
    "dataset"
   ]
  },
  {
   "cell_type": "markdown",
   "id": "97c40929",
   "metadata": {},
   "source": [
    "Notar que Kilometraje no era la única variable con problemas. Veamos qué sucede con la columna Valor."
   ]
  },
  {
   "cell_type": "code",
   "execution_count": null,
   "id": "71c592d6",
   "metadata": {},
   "outputs": [],
   "source": [
    "dataset[dataset.Valor.isna()]"
   ]
  },
  {
   "cell_type": "code",
   "execution_count": null,
   "id": "52c01492",
   "metadata": {},
   "outputs": [],
   "source": [
    "dataset[\"Valor\"].describe()"
   ]
  },
  {
   "cell_type": "markdown",
   "id": "59dc5290",
   "metadata": {},
   "source": [
    "Como vemos, tenemos valores -999999, lo que muchas veces se usa para especificar missings, y que puede ser buena idea modificar. Primero, convirtámoslos en missings.\n"
   ]
  },
  {
   "cell_type": "code",
   "execution_count": null,
   "id": "ea5ac99c",
   "metadata": {},
   "outputs": [],
   "source": [
    "dataset[\"Valor\"].replace(-999999, np.nan, inplace = True)\n",
    "dataset[\"Valor\"].describe()"
   ]
  },
  {
   "cell_type": "markdown",
   "id": "02bcca95",
   "metadata": {},
   "source": [
    "Puede que ahora queramos eliminar las opciones con missings, eso lo haremos con la función `drop.na()`"
   ]
  },
  {
   "cell_type": "code",
   "execution_count": null,
   "id": "6c5b46bd",
   "metadata": {},
   "outputs": [],
   "source": [
    "dataset.dropna(subset = ['Valor'], inplace = True)\n",
    "dataset.info()"
   ]
  },
  {
   "cell_type": "code",
   "execution_count": null,
   "id": "b50cbd2b",
   "metadata": {},
   "outputs": [],
   "source": [
    "dataset"
   ]
  },
  {
   "cell_type": "markdown",
   "id": "9be0a4ee",
   "metadata": {},
   "source": [
    "# <CENTER> INTRODUCCIÓN A GRÁFICOS\n",
    "    \n",
    " Una de las bibliotecas que usaremos para graficar es `matplotlib`. Debemos importarla."
   ]
  },
  {
   "cell_type": "code",
   "execution_count": null,
   "id": "61e5ac23",
   "metadata": {},
   "outputs": [],
   "source": [
    "import matplotlib.pyplot as plt"
   ]
  },
  {
   "cell_type": "code",
   "execution_count": null,
   "id": "4895ded9",
   "metadata": {},
   "outputs": [],
   "source": [
    "dir(plt)"
   ]
  },
  {
   "cell_type": "code",
   "execution_count": null,
   "id": "871a243a",
   "metadata": {},
   "outputs": [],
   "source": [
    "dataset[\"Kilometraje\"].hist()"
   ]
  },
  {
   "cell_type": "markdown",
   "id": "823292de",
   "metadata": {},
   "source": [
    "Trabajaremos con gráficos más en profundidad la clase que viene."
   ]
  },
  {
   "cell_type": "markdown",
   "id": "991c0557",
   "metadata": {},
   "source": [
    "# <CENTER> EJERCICIOS \n",
    "\n",
    "   ### Para resolver en grupo: \n",
    "    \n",
    "   ### Elijan una de las siguientes tareas: \n",
    "    \n",
    "    \n",
    "- **Municipios 1:** \n",
    "    \n",
    "\n",
    "    - Importar la base de municipios disponible en la carpeta de clase 2.\n",
    "    \n",
    "    - generar la variable de recaudación como la suma de las variables de las tasas (abl, tish, red vial) y multiplicada por un millón. \n",
    "    \n",
    "    - generar la recaudación per cápita.\n",
    "    \n",
    "\n",
    "    \n",
    "- **Municipios 2:** \n",
    "    \n",
    "    \n",
    "    - Importar la base de municipios disponible en la carpeta de clase 2.\n",
    "    \n",
    "    - Calcular cuántas personas tienen internet en el municipio.\n",
    "    \n",
    "    - Calcular la media de personas con internet según la actividad económica principal de los municipios. \n",
    "    \n",
    "    \n",
    "- **Bucles 1:**\n",
    "    \n",
    "    Crear un bucle donde el cajero de un comercio tenga que ingresar los valores de las distintas ventas que se hacen en el día. Los montos negativos no son válidos y deben avisarse al usuario. El bucle va acumulando los valores de las ventas del día. \n",
    "Al final del día, debe ingresar el valor 0 para cerrar la caja, y el programa devolverá el total recaudado.   \n",
    "    \n",
    "    \n",
    "- **Bucles 2:** \n",
    "    \n",
    "    Sean 2.3, 3.0, 2.5, 2.8, 2.1, 2.9, 3.2, 3.5, 2.7, 3.3 las tasas de crecimiento anuales del PBI de un país cuyo PBI inicial era de 1000 para los próximos 10 años. Calcule el PBI final y la tasa de crecimiento promedio."
   ]
  }
 ],
 "metadata": {
  "kernelspec": {
   "display_name": "Python 3 (ipykernel)",
   "language": "python",
   "name": "python3"
  },
  "language_info": {
   "codemirror_mode": {
    "name": "ipython",
    "version": 3
   },
   "file_extension": ".py",
   "mimetype": "text/x-python",
   "name": "python",
   "nbconvert_exporter": "python",
   "pygments_lexer": "ipython3",
   "version": "3.11.3"
  }
 },
 "nbformat": 4,
 "nbformat_minor": 5
}
