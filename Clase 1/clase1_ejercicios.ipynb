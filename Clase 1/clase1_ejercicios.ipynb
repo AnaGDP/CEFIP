{
 "cells": [
  {
   "cell_type": "markdown",
   "id": "2b6c62d7",
   "metadata": {},
   "source": [
    "#  <CENTER>INTRODUCCIÓN A PYTHON - CEFIP<CENTER>\n",
    "   \n",
    "## <CENTER>OCTUBRE 2023<CENTER>"
   ]
  },
  {
   "cell_type": "markdown",
   "id": "4a4f6a14",
   "metadata": {},
   "source": [
    "# <CENTER> JUPYTER NOTEBOOK\n",
    "\n",
    "***Jupyter Notebook*** es amigable para trabajar y permite combinar celdas de código (margen izquierdo verde) con celdas de texto (azul). Esto puede ser muy útil para presentar la información. \n",
    "Las celdas de texto (Markdown) permiten poner énfasis: \n",
    "# Hacer el texto más grande..\n",
    "## Mediano\n",
    "**Negrita** \n",
    "\n",
    "*Cursiva*\n",
    "\n",
    "- [x] Checkbox\n",
    "\n",
    "Podemos poner links:\n",
    "[link_a_cheatsheet](https://sqlbak.com/blog/wp-content/uploads/2020/12/Jupyter-Notebook-Markdown-Cheatsheet2.pdf)\n",
    "\n",
    "Esto resulta útil en el momento de pensar en que el código sea entendido no solo por nosotros en el momento sino también en el futuro y por otros. Adicionalmente, jupyter permite **imprimir el notebook** (o guardar el pdf) con lo cual trabajar con celdas de texto puede ser útil para que quede cómodo al ver (print preview). \n"
   ]
  },
  {
   "cell_type": "markdown",
   "id": "01afcc3c",
   "metadata": {},
   "source": [
    "# <CENTER> PRIMEROS PASOS\n",
    "\n",
    "Comencemos con el típico mensaje de \"Hola Mundo\""
   ]
  },
  {
   "cell_type": "code",
   "execution_count": 1,
   "id": "c71e98bb",
   "metadata": {},
   "outputs": [
    {
     "name": "stdout",
     "output_type": "stream",
     "text": [
      "Hola Mundo\n"
     ]
    }
   ],
   "source": [
    "print(\"Hola Mundo\")"
   ]
  },
  {
   "cell_type": "code",
   "execution_count": 2,
   "id": "970ca704",
   "metadata": {},
   "outputs": [
    {
     "name": "stdout",
     "output_type": "stream",
     "text": [
      "3\n"
     ]
    }
   ],
   "source": [
    "#Notar1: necesito poner comillas para hacer referencia a un texto, pero no para un número. \n",
    "#Notar2: también puedo comentar en las celdas de código usando el #\n",
    "print(3)"
   ]
  },
  {
   "cell_type": "markdown",
   "id": "f85eaa2e",
   "metadata": {},
   "source": [
    "Como ya sabemos, lo anterior tiene que ver con que Python, al igual que otros lenguajes, diferencia entre **tipos de datos**. Veamos algunos ejemplos:\n",
    "\n",
    "- ***Evalúe el tipo de dato de 3, 3.0, \"CEFIP\" en la misma celda.***"
   ]
  },
  {
   "cell_type": "code",
   "execution_count": 3,
   "id": "975633d9",
   "metadata": {},
   "outputs": [
    {
     "data": {
      "text/plain": [
       "int"
      ]
     },
     "execution_count": 3,
     "metadata": {},
     "output_type": "execute_result"
    }
   ],
   "source": [
    "type(3)"
   ]
  },
  {
   "cell_type": "code",
   "execution_count": 4,
   "id": "72e75d71",
   "metadata": {},
   "outputs": [
    {
     "data": {
      "text/plain": [
       "float"
      ]
     },
     "execution_count": 4,
     "metadata": {},
     "output_type": "execute_result"
    }
   ],
   "source": [
    "type(3.0)"
   ]
  },
  {
   "cell_type": "code",
   "execution_count": 5,
   "id": "81a620d0",
   "metadata": {},
   "outputs": [
    {
     "data": {
      "text/plain": [
       "str"
      ]
     },
     "execution_count": 5,
     "metadata": {},
     "output_type": "execute_result"
    }
   ],
   "source": [
    "type(\"CEFIP\")"
   ]
  },
  {
   "cell_type": "markdown",
   "id": "a6fb1574",
   "metadata": {},
   "source": [
    "Evalúe ahora si la veracidad de varias situaciones: \n",
    "- Si 3 y 3.0 son lo mismo.\n",
    "- Si 3 y \"3.0\" son lo mismo.\n",
    "- \"CEFIP\" y 'CEFIP' son lo mismo. \n",
    "- \"CEFIP\" y \" CEFIP \" son lo mismo. \n",
    "- \"CEFIP\" y \"cefip\" son lo mismo. "
   ]
  },
  {
   "cell_type": "code",
   "execution_count": 6,
   "id": "868a2f7b",
   "metadata": {},
   "outputs": [
    {
     "data": {
      "text/plain": [
       "True"
      ]
     },
     "execution_count": 6,
     "metadata": {},
     "output_type": "execute_result"
    }
   ],
   "source": [
    "3==3.0"
   ]
  },
  {
   "cell_type": "code",
   "execution_count": 7,
   "id": "75ef33fd",
   "metadata": {},
   "outputs": [
    {
     "data": {
      "text/plain": [
       "False"
      ]
     },
     "execution_count": 7,
     "metadata": {},
     "output_type": "execute_result"
    }
   ],
   "source": [
    "3==\"3\""
   ]
  },
  {
   "cell_type": "code",
   "execution_count": 8,
   "id": "5032cfcd",
   "metadata": {},
   "outputs": [
    {
     "data": {
      "text/plain": [
       "False"
      ]
     },
     "execution_count": 8,
     "metadata": {},
     "output_type": "execute_result"
    }
   ],
   "source": [
    "\"cefip\"==\"CEFIP\""
   ]
  },
  {
   "cell_type": "code",
   "execution_count": 9,
   "id": "7a57f5f6",
   "metadata": {},
   "outputs": [
    {
     "data": {
      "text/plain": [
       "False"
      ]
     },
     "execution_count": 9,
     "metadata": {},
     "output_type": "execute_result"
    }
   ],
   "source": [
    "\"CEFIP\"==\" CEFIP \""
   ]
  },
  {
   "cell_type": "code",
   "execution_count": 10,
   "id": "8c146945",
   "metadata": {},
   "outputs": [
    {
     "data": {
      "text/plain": [
       "True"
      ]
     },
     "execution_count": 10,
     "metadata": {},
     "output_type": "execute_result"
    }
   ],
   "source": [
    "\"CEFIP\"=='CEFIP'"
   ]
  },
  {
   "cell_type": "markdown",
   "id": "f6b00fbe",
   "metadata": {},
   "source": [
    "# <CENTER>OPERACIONES SENCILLAS "
   ]
  },
  {
   "cell_type": "markdown",
   "id": "119b68d0",
   "metadata": {},
   "source": [
    "La mayoría de los operadores y las comparaciones en Python funcionan como se esperaría:\n",
    "\n",
    "* Operadores aritméticos `+`, `-`, `*`, `/`, `//` (división entera), '**' potencia"
   ]
  },
  {
   "cell_type": "code",
   "execution_count": 11,
   "id": "d82a3f7d",
   "metadata": {},
   "outputs": [
    {
     "name": "stdout",
     "output_type": "stream",
     "text": [
      "9\n"
     ]
    }
   ],
   "source": [
    "print(4+5)"
   ]
  },
  {
   "cell_type": "code",
   "execution_count": 12,
   "id": "4b32767f",
   "metadata": {},
   "outputs": [
    {
     "data": {
      "text/plain": [
       "24"
      ]
     },
     "execution_count": 12,
     "metadata": {},
     "output_type": "execute_result"
    }
   ],
   "source": [
    "#No necesito poner print para ver la operación si es lo único que hago\n",
    "17+7"
   ]
  },
  {
   "cell_type": "code",
   "execution_count": 13,
   "id": "26ef685b",
   "metadata": {},
   "outputs": [
    {
     "data": {
      "text/plain": [
       "25"
      ]
     },
     "execution_count": 13,
     "metadata": {},
     "output_type": "execute_result"
    }
   ],
   "source": [
    "#La potencia es el único operador que se hace un poco distinto: \n",
    "5**2\n"
   ]
  },
  {
   "cell_type": "code",
   "execution_count": 14,
   "id": "3bdc04e6",
   "metadata": {},
   "outputs": [
    {
     "data": {
      "text/plain": [
       "'Hola Mundo'"
      ]
     },
     "execution_count": 14,
     "metadata": {},
     "output_type": "execute_result"
    }
   ],
   "source": [
    "#Podemos usar el operador + para concatenar:   \n",
    "\n",
    "\"Hola\" + \" \" + \"Mundo\""
   ]
  },
  {
   "cell_type": "code",
   "execution_count": 15,
   "id": "977bf8ab",
   "metadata": {},
   "outputs": [
    {
     "data": {
      "text/plain": [
       "'CEFIP CEFIP CEFIP CEFIP CEFIP '"
      ]
     },
     "execution_count": 15,
     "metadata": {},
     "output_type": "execute_result"
    }
   ],
   "source": [
    "#Y qué pasa si multiplicamos strings: \n",
    "\"CEFIP \"*5"
   ]
  },
  {
   "cell_type": "markdown",
   "id": "7816a56a",
   "metadata": {},
   "source": [
    "## Adicionalmente, podemos tener operadores booleanos o lógicos \n",
    "\n",
    "- Se utiliza para realizar operaciones lógicas entre dos o más valores booleanos (verdadero o falso). \n",
    "\n",
    "- Estos operadores permiten combinar condiciones o expresiones booleanas para obtener un resultado basado en la lógica."
   ]
  },
  {
   "cell_type": "code",
   "execution_count": 16,
   "id": "ea616437",
   "metadata": {},
   "outputs": [
    {
     "data": {
      "text/plain": [
       "True"
      ]
     },
     "execution_count": 16,
     "metadata": {},
     "output_type": "execute_result"
    }
   ],
   "source": [
    "True or False "
   ]
  },
  {
   "cell_type": "code",
   "execution_count": 17,
   "id": "d2e8b6fe",
   "metadata": {},
   "outputs": [
    {
     "data": {
      "text/plain": [
       "False"
      ]
     },
     "execution_count": 17,
     "metadata": {},
     "output_type": "execute_result"
    }
   ],
   "source": [
    "True and False"
   ]
  },
  {
   "cell_type": "code",
   "execution_count": 18,
   "id": "a3cf3670",
   "metadata": {},
   "outputs": [
    {
     "data": {
      "text/plain": [
       "False"
      ]
     },
     "execution_count": 18,
     "metadata": {},
     "output_type": "execute_result"
    }
   ],
   "source": [
    "not True "
   ]
  },
  {
   "cell_type": "markdown",
   "id": "e2339d83",
   "metadata": {},
   "source": [
    "**No a todas las operaciones que a nosotros nos resultan básicas se pueden llamar directamente en Python (ejemplo logaritmo natural)**"
   ]
  },
  {
   "cell_type": "markdown",
   "id": "8f1e161d",
   "metadata": {},
   "source": [
    "## Operadores de comparación: \n",
    " `>`, `<`, `>=` (mayor o igual), `<=` (menor o igual), `==` igualdad, `es` idéntico.\n"
   ]
  },
  {
   "cell_type": "code",
   "execution_count": 19,
   "id": "8b838892",
   "metadata": {},
   "outputs": [
    {
     "data": {
      "text/plain": [
       "True"
      ]
     },
     "execution_count": 19,
     "metadata": {},
     "output_type": "execute_result"
    }
   ],
   "source": [
    "2>1"
   ]
  },
  {
   "cell_type": "code",
   "execution_count": 20,
   "id": "3b563ba5",
   "metadata": {},
   "outputs": [
    {
     "data": {
      "text/plain": [
       "(True, False)"
      ]
     },
     "execution_count": 20,
     "metadata": {},
     "output_type": "execute_result"
    }
   ],
   "source": [
    "2 >= 2, 2 <2"
   ]
  },
  {
   "cell_type": "markdown",
   "id": "6f6ec69e",
   "metadata": {},
   "source": [
    "# <center>VARIABLES\n",
    "    \n",
    "    \n",
    "**Recordar que los nombres de las variables:**    \n",
    "- Pueden contener solamente letras (mayúsculas y minúsculas), números, y guión bajo; todas las letras deben pertenecer al código de caracteres ASCII básico, y no contener caracteres extendidos\n",
    "- El primer carácter no puede ser un número\n",
    "- Si bien no es obligatorio, siempre es recomendable que las variables tengan nombres cortos y descriptivos del contenido    \n",
    "- Las palabras reservadas del lenguaje no pueden usarse como identificadores, estas son:\n",
    "    \n",
    "    `and, as, assert, break, class, continue, def, del, elif, else, except,\n",
    "    exec, finally, for, from, global, if, import, in, is, lambda, not, or,\n",
    "    pass, print, raise, return, try, while, with, yield`\n",
    " \n",
    "    \n",
    "\n",
    "    \n",
    " "
   ]
  },
  {
   "cell_type": "code",
   "execution_count": 21,
   "id": "dccfdaea",
   "metadata": {},
   "outputs": [
    {
     "ename": "SyntaxError",
     "evalue": "invalid syntax (1483076778.py, line 3)",
     "output_type": "error",
     "traceback": [
      "\u001b[1;36m  Cell \u001b[1;32mIn[21], line 3\u001b[1;36m\u001b[0m\n\u001b[1;33m    lambda=1\u001b[0m\n\u001b[1;37m          ^\u001b[0m\n\u001b[1;31mSyntaxError\u001b[0m\u001b[1;31m:\u001b[0m invalid syntax\n"
     ]
    }
   ],
   "source": [
    "#¿Qué pasa si le asignamos un valor prohibido a una variable? --> Error\n",
    "\n",
    "lambda=1"
   ]
  },
  {
   "cell_type": "code",
   "execution_count": 22,
   "id": "a0aaaaa2",
   "metadata": {},
   "outputs": [
    {
     "ename": "SyntaxError",
     "evalue": "cannot assign to literal here. Maybe you meant '==' instead of '='? (4149970148.py, line 1)",
     "output_type": "error",
     "traceback": [
      "\u001b[1;36m  Cell \u001b[1;32mIn[22], line 1\u001b[1;36m\u001b[0m\n\u001b[1;33m    18=21\u001b[0m\n\u001b[1;37m    ^\u001b[0m\n\u001b[1;31mSyntaxError\u001b[0m\u001b[1;31m:\u001b[0m cannot assign to literal here. Maybe you meant '==' instead of '='?\n"
     ]
    }
   ],
   "source": [
    "18=21"
   ]
  },
  {
   "cell_type": "code",
   "execution_count": 23,
   "id": "c09bddf3",
   "metadata": {},
   "outputs": [
    {
     "data": {
      "text/plain": [
       "int"
      ]
     },
     "execution_count": 23,
     "metadata": {},
     "output_type": "execute_result"
    }
   ],
   "source": [
    "a=1\n",
    "type(a)"
   ]
  },
  {
   "cell_type": "code",
   "execution_count": 24,
   "id": "27e90e38",
   "metadata": {},
   "outputs": [
    {
     "data": {
      "text/plain": [
       "float"
      ]
     },
     "execution_count": 24,
     "metadata": {},
     "output_type": "execute_result"
    }
   ],
   "source": [
    "m=2.2\n",
    "type(m)"
   ]
  },
  {
   "cell_type": "code",
   "execution_count": 25,
   "id": "067a8945",
   "metadata": {},
   "outputs": [
    {
     "data": {
      "text/plain": [
       "str"
      ]
     },
     "execution_count": 25,
     "metadata": {},
     "output_type": "execute_result"
    }
   ],
   "source": [
    "a=\"Hola\"\n",
    "type(a)"
   ]
  },
  {
   "cell_type": "code",
   "execution_count": 26,
   "id": "51d186b0",
   "metadata": {},
   "outputs": [
    {
     "name": "stdout",
     "output_type": "stream",
     "text": [
      "HolaHola\n"
     ]
    }
   ],
   "source": [
    "b=a+a\n",
    "print(b)"
   ]
  },
  {
   "cell_type": "code",
   "execution_count": 27,
   "id": "8d83428c",
   "metadata": {},
   "outputs": [
    {
     "name": "stdout",
     "output_type": "stream",
     "text": [
      "15\n"
     ]
    }
   ],
   "source": [
    "c=10\n",
    "d=c+5\n",
    "print(d)"
   ]
  },
  {
   "cell_type": "code",
   "execution_count": 28,
   "id": "d84ab8a0",
   "metadata": {},
   "outputs": [
    {
     "data": {
      "text/plain": [
       "complex"
      ]
     },
     "execution_count": 28,
     "metadata": {},
     "output_type": "execute_result"
    }
   ],
   "source": [
    "# números complejos: note que se usa `j` para especificar la parte imaginaria\n",
    "x = 1.0 - 1.0j\n",
    "type(x)"
   ]
  },
  {
   "cell_type": "code",
   "execution_count": 29,
   "id": "683b3af1",
   "metadata": {},
   "outputs": [
    {
     "name": "stdout",
     "output_type": "stream",
     "text": [
      "1.0 -1.0\n"
     ]
    }
   ],
   "source": [
    "print(x.real, x.imag)"
   ]
  },
  {
   "cell_type": "code",
   "execution_count": 30,
   "id": "c54361ef",
   "metadata": {},
   "outputs": [
    {
     "name": "stdout",
     "output_type": "stream",
     "text": [
      "Esta era la lista original: [1, 2, 3]\n",
      "Esta es la lista ahora: [1, 2, 3, 4, 5]\n"
     ]
    }
   ],
   "source": [
    "# Como dijimos, las variables pueden hacer referencia a listas por ejemplo: \n",
    "Lista=[1,2,3]\n",
    "print(\"Esta era la lista original:\", Lista)\n",
    "#a esta lista le puedo sumar elementos, usando el comando append o con atajos: \n",
    "Lista.append(4)\n",
    "Lista +=[5]\n",
    "print(\"Esta es la lista ahora:\", Lista)"
   ]
  },
  {
   "cell_type": "markdown",
   "id": "48e812b8",
   "metadata": {},
   "source": [
    "## Podemos convertir el tipo de variable:"
   ]
  },
  {
   "cell_type": "code",
   "execution_count": 31,
   "id": "458a93e1",
   "metadata": {},
   "outputs": [
    {
     "name": "stdout",
     "output_type": "stream",
     "text": [
      "2 <class 'int'>\n"
     ]
    }
   ],
   "source": [
    "m=int(m)\n",
    "print(m, type(m))"
   ]
  },
  {
   "cell_type": "code",
   "execution_count": 32,
   "id": "a94ac56c",
   "metadata": {},
   "outputs": [
    {
     "ename": "TypeError",
     "evalue": "int() argument must be a string, a bytes-like object or a real number, not 'complex'",
     "output_type": "error",
     "traceback": [
      "\u001b[1;31m---------------------------------------------------------------------------\u001b[0m",
      "\u001b[1;31mTypeError\u001b[0m                                 Traceback (most recent call last)",
      "Cell \u001b[1;32mIn[32], line 2\u001b[0m\n\u001b[0;32m      1\u001b[0m \u001b[38;5;66;03m# Podemos hacer lo anterior con un número complejo? Intentemos, utilizando el mismo método\u001b[39;00m\n\u001b[1;32m----> 2\u001b[0m x\u001b[38;5;241m=\u001b[39m\u001b[38;5;28mint\u001b[39m(x)\n\u001b[0;32m      3\u001b[0m \u001b[38;5;28mprint\u001b[39m(x, \u001b[38;5;28mtype\u001b[39m(x))\n",
      "\u001b[1;31mTypeError\u001b[0m: int() argument must be a string, a bytes-like object or a real number, not 'complex'"
     ]
    }
   ],
   "source": [
    "# Podemos hacer lo anterior con un número complejo? Intentemos, utilizando el mismo método\n",
    "x=int(x)\n",
    "print(x, type(x))\n"
   ]
  },
  {
   "cell_type": "markdown",
   "id": "7a593660",
   "metadata": {},
   "source": [
    "Como vemos, un número complejo **no puede ser convertido a un número flotante o a un entero**. Necesitamos usar `z.real`, o bien `z.imag`, para extraer la parte que deseamos del número complejo z:"
   ]
  },
  {
   "cell_type": "code",
   "execution_count": 33,
   "id": "30976426",
   "metadata": {},
   "outputs": [
    {
     "name": "stdout",
     "output_type": "stream",
     "text": [
      "1.0 <class 'float'>\n"
     ]
    }
   ],
   "source": [
    "y=x.real\n",
    "print(y, type(y))"
   ]
  },
  {
   "cell_type": "markdown",
   "id": "7766fbd8",
   "metadata": {},
   "source": [
    "## Tipos compuestos: cadenas, listas, tuplas\n",
    "\n",
    "### Cadenas\n",
    "\n",
    "Las cadenas (strings) son el tipo de variables que usamos para almacenar texto.\n"
   ]
  },
  {
   "cell_type": "code",
   "execution_count": 34,
   "id": "65e58574",
   "metadata": {},
   "outputs": [
    {
     "data": {
      "text/plain": [
       "10"
      ]
     },
     "execution_count": 34,
     "metadata": {},
     "output_type": "execute_result"
    }
   ],
   "source": [
    "#Podemos ver distintos atributos, como por ejemplo la longitud de una cadena:\n",
    "m= \"Hola Mundo\"\n",
    "len(m)"
   ]
  },
  {
   "cell_type": "code",
   "execution_count": 35,
   "id": "601603d5",
   "metadata": {},
   "outputs": [
    {
     "name": "stdout",
     "output_type": "stream",
     "text": [
      "Hola participantes\n",
      "Hola participantes del curso de Python del CEFIP\n"
     ]
    }
   ],
   "source": [
    "#También podemos reemplazar parte de una cadena: \n",
    "m= m.replace(\"Mundo\", \"participantes\")\n",
    "print(m)\n",
    "\n",
    "#También podemos sumar caracteres (recordar que la concatenación la hacíamos con +): \n",
    "m=m+(\" del curso de Python del CEFIP\")\n",
    "print(m)\n"
   ]
  },
  {
   "cell_type": "code",
   "execution_count": 36,
   "id": "5c11fc9f",
   "metadata": {},
   "outputs": [
    {
     "data": {
      "text/plain": [
       "'Hola'"
      ]
     },
     "execution_count": 36,
     "metadata": {},
     "output_type": "execute_result"
    }
   ],
   "source": [
    "#Dentro de una cadena también podemos quedarnos con una parte (a esto se lo llama slicing): \n",
    "\n",
    "#RECORDAR: En Python empezamos a contar desde la posición 0:\n",
    "\n",
    "m[0:4]\n",
    "#Notan algo raro con respecto a esto?"
   ]
  },
  {
   "cell_type": "code",
   "execution_count": 37,
   "id": "89d7e494",
   "metadata": {},
   "outputs": [
    {
     "name": "stdout",
     "output_type": "stream",
     "text": [
      "af4\n"
     ]
    }
   ],
   "source": [
    "\n",
    "#si en cambio, además del inicio y el fin indicamos un paso (step)\n",
    "cadena=\"abcdefg12345678\"\n",
    "porcion=cadena[0:14:5]\n",
    "print(porcion)\n"
   ]
  },
  {
   "cell_type": "markdown",
   "id": "68eacf6b",
   "metadata": {},
   "source": [
    "- Usando la sintaxis `[desde:hasta]`, extraemos caracteres entre los índices  `desde` y `hasta` **sin incluir el elemento con índice `hasta'**.\n",
    "- Si omitimos `desde` o bien `hasta` de `[desde:hasta]`, por defecto se entiende que se refiere al comienzo y/o al fin de la cadena.\n",
    "- Si omitimos el valor del paso (sintaxis `[desde:hasta:paso]`, como en el ejemplo anterior) este será 1 por defecto.\n",
    "- También podemos usar números negativos, con lo cual va a comenzar a contar desde el final hasta la posición que le indiquemos. \n"
   ]
  },
  {
   "cell_type": "code",
   "execution_count": 38,
   "id": "f4630f42",
   "metadata": {
    "scrolled": true
   },
   "outputs": [
    {
     "name": "stdout",
     "output_type": "stream",
     "text": [
      "CEFIP\n"
     ]
    }
   ],
   "source": [
    "nombre_sigla=\"Centro de Estudios en Finanzas Públicas CEFIP\"\n",
    "\n",
    "sigla=nombre_sigla[-5:]\n",
    "print(sigla)"
   ]
  },
  {
   "cell_type": "markdown",
   "id": "90f84035",
   "metadata": {},
   "source": [
    "### **Listas**\n",
    "- Como ya vimos, la sintaxis implica que los elementos de la lista se encuentran entre `[..., ..., ...]`. \n",
    "- Los elementos dentro de una lista pueden ser de distintos tipos. \n",
    "- Su clase será lista. \n",
    "- Podemos usar las técnicas de slicing como vimos con las cadenas. \n",
    "- Serán de gran utilidad para usar en bucles y otras estructuras de control. \n",
    "- Las listas pueden incluso estar compuestas por listas. "
   ]
  },
  {
   "cell_type": "code",
   "execution_count": 39,
   "id": "100844af",
   "metadata": {},
   "outputs": [
    {
     "data": {
      "text/plain": [
       "list"
      ]
     },
     "execution_count": 39,
     "metadata": {},
     "output_type": "execute_result"
    }
   ],
   "source": [
    "lista=[1,2.0,\"a\",True]\n",
    "type(lista)"
   ]
  },
  {
   "cell_type": "code",
   "execution_count": 40,
   "id": "5767e2e3",
   "metadata": {},
   "outputs": [
    {
     "name": "stdout",
     "output_type": "stream",
     "text": [
      "['a', 1, 2.0]\n"
     ]
    },
    {
     "data": {
      "text/plain": [
       "3"
      ]
     },
     "execution_count": 40,
     "metadata": {},
     "output_type": "execute_result"
    }
   ],
   "source": [
    "#Podemos crear listas vacías y sumarles elementos: \n",
    "MyList=[]\n",
    "MyList.append(\"a\")\n",
    "MyList=MyList+[1]\n",
    "MyList+=[2.0]\n",
    "print(MyList)\n",
    "len(MyList)"
   ]
  },
  {
   "cell_type": "code",
   "execution_count": 41,
   "id": "fbc8cd79",
   "metadata": {},
   "outputs": [
    {
     "name": "stdout",
     "output_type": "stream",
     "text": [
      "['a', 'Hola', 1, 2.0]\n"
     ]
    }
   ],
   "source": [
    "#También podemos sumar un elemento en una posición específica: \n",
    "MyList.insert(1, \"Hola\")\n",
    "print(MyList)\n"
   ]
  },
  {
   "cell_type": "code",
   "execution_count": 42,
   "id": "dfe5edfe",
   "metadata": {},
   "outputs": [
    {
     "name": "stdout",
     "output_type": "stream",
     "text": [
      "['Hola', 1, 2.0]\n",
      "['Hola', 1]\n"
     ]
    }
   ],
   "source": [
    "#También podemos eliminar un elemento: \n",
    "MyList.remove(\"a\")\n",
    "print(MyList)\n",
    "#O eliminar un elemento de una posición específica: \n",
    "del MyList[2]\n",
    "print(MyList)"
   ]
  },
  {
   "cell_type": "markdown",
   "id": "9f1344a1",
   "metadata": {},
   "source": [
    "- La función `range()` en Python se utiliza para generar una secuencia de números enteros en un rango específico. \n",
    "- La utilidad principal de `range()` es crear iteradores que se pueden utilizar en bucles.\n",
    "- Genera un interador, que puede ser convertido a una lista usando 'list(...)'"
   ]
  },
  {
   "cell_type": "code",
   "execution_count": 43,
   "id": "447aab37",
   "metadata": {},
   "outputs": [
    {
     "data": {
      "text/plain": [
       "[10, 12, 14, 16, 18, 20, 22, 24, 26, 28]"
      ]
     },
     "execution_count": 43,
     "metadata": {},
     "output_type": "execute_result"
    }
   ],
   "source": [
    "desde = 10\n",
    "hasta = 30\n",
    "paso = 2\n",
    "\n",
    "list(range(desde, hasta, paso))\n"
   ]
  },
  {
   "cell_type": "markdown",
   "id": "10b5be33",
   "metadata": {},
   "source": [
    "\n",
    "\n",
    "###  Tuplas\n",
    "Son similares a las listas, pero una vez creadas no pueden ser modificadas, son *inmutables*.\n",
    "\n",
    "La sintaxis para su creación es `..., ..., ...`:"
   ]
  },
  {
   "cell_type": "code",
   "execution_count": 44,
   "id": "47cb8727",
   "metadata": {},
   "outputs": [
    {
     "name": "stdout",
     "output_type": "stream",
     "text": [
      "(10, 20, 30)\n"
     ]
    }
   ],
   "source": [
    "tupla=10, 20, 30\n",
    "print(tupla)"
   ]
  },
  {
   "cell_type": "code",
   "execution_count": 45,
   "id": "1ba8569a",
   "metadata": {},
   "outputs": [
    {
     "ename": "AttributeError",
     "evalue": "'tuple' object has no attribute 'append'",
     "output_type": "error",
     "traceback": [
      "\u001b[1;31m---------------------------------------------------------------------------\u001b[0m",
      "\u001b[1;31mAttributeError\u001b[0m                            Traceback (most recent call last)",
      "Cell \u001b[1;32mIn[45], line 2\u001b[0m\n\u001b[0;32m      1\u001b[0m \u001b[38;5;66;03m#Si le tratamos de sumar nuevos elementos:\u001b[39;00m\n\u001b[1;32m----> 2\u001b[0m tupla\u001b[38;5;241m.\u001b[39mappend(\u001b[38;5;241m5\u001b[39m)\n",
      "\u001b[1;31mAttributeError\u001b[0m: 'tuple' object has no attribute 'append'"
     ]
    }
   ],
   "source": [
    "#Si le tratamos de sumar nuevos elementos:\n",
    "tupla.append(5)"
   ]
  },
  {
   "cell_type": "code",
   "execution_count": 46,
   "id": "5193fdbf",
   "metadata": {},
   "outputs": [
    {
     "name": "stdout",
     "output_type": "stream",
     "text": [
      "[10, 20, 30]\n"
     ]
    }
   ],
   "source": [
    "#Se puede transformar una tupla en una lista: \n",
    "lista = list(tupla)\n",
    "print(lista)"
   ]
  },
  {
   "cell_type": "markdown",
   "id": "44d91efc",
   "metadata": {},
   "source": [
    "Lo que hicimos antes es un ejemplo de lo que se conoce como **casting** o conversión de tipos. \n",
    "\n",
    "Es una operación común en Python donde cambias el tipo de dato de una variable a otro. "
   ]
  },
  {
   "cell_type": "markdown",
   "id": "9afebae8",
   "metadata": {},
   "source": [
    "# <center>FUNCIONES\n",
    "    \n",
    "Las funciones son el equivalent a los programas en Stata.     \n",
    "    \n",
    "Una función es definida usando la palabra `def`, seguida de un nombre para la función, una variable entre paréntesis `()`, y el símbolo de dos puntos `:`. El siguiente código representa el cuerpo de la función y requiere un nivel adicional de indentación."
   ]
  },
  {
   "cell_type": "code",
   "execution_count": 47,
   "id": "d0d66296",
   "metadata": {},
   "outputs": [],
   "source": [
    "def printWord (palabra) : \n",
    " print(\"La palabra elegida fue \"+ palabra)"
   ]
  },
  {
   "cell_type": "code",
   "execution_count": 48,
   "id": "3f757ed6",
   "metadata": {
    "scrolled": false
   },
   "outputs": [
    {
     "name": "stdout",
     "output_type": "stream",
     "text": [
      "La palabra elegida fue impuestos\n"
     ]
    }
   ],
   "source": [
    "printWord(\"impuestos\")"
   ]
  },
  {
   "cell_type": "markdown",
   "id": "91a70f11",
   "metadata": {},
   "source": [
    "Puede ser buena idea **describir el propósito y comportamiento de la función**. Esto se llama docstring, y es incluido directamente después de la definición de la función, antes del código en el cuerpo de la función.\n",
    "\n",
    "Por otro lado, la palabra `return` tiene un significado especial en el contexto de las funciones, para funciones que retornan un valor"
   ]
  },
  {
   "cell_type": "code",
   "execution_count": 49,
   "id": "c6ad3de6",
   "metadata": {},
   "outputs": [],
   "source": [
    "def cuadrado(x):\n",
    "    \"\"\"\n",
    "    Devuelve el valor de x al cuadrado.\n",
    "    \"\"\"\n",
    "    return x**2"
   ]
  },
  {
   "cell_type": "code",
   "execution_count": 50,
   "id": "ab2b291d",
   "metadata": {},
   "outputs": [
    {
     "data": {
      "text/plain": [
       "2704"
      ]
     },
     "execution_count": 50,
     "metadata": {},
     "output_type": "execute_result"
    }
   ],
   "source": [
    "cuadrado(52)"
   ]
  },
  {
   "cell_type": "code",
   "execution_count": 51,
   "id": "42d941c8",
   "metadata": {},
   "outputs": [
    {
     "name": "stdout",
     "output_type": "stream",
     "text": [
      "Help on function cuadrado in module __main__:\n",
      "\n",
      "cuadrado(x)\n",
      "    Devuelve el valor de x al cuadrado.\n",
      "\n"
     ]
    }
   ],
   "source": [
    "help(cuadrado)"
   ]
  },
  {
   "cell_type": "code",
   "execution_count": 52,
   "id": "639eab5b",
   "metadata": {},
   "outputs": [],
   "source": [
    "def tabla(x):\n",
    "    \"\"\"\n",
    "    Calcula la tabla de multiplicación de x.\n",
    "    \"\"\"\n",
    "    return x, x*2, x*3, x*4, x*5, x*6, x*7, x*8, x*9, x*10"
   ]
  },
  {
   "cell_type": "code",
   "execution_count": 53,
   "id": "39371af7",
   "metadata": {},
   "outputs": [
    {
     "data": {
      "text/plain": [
       "(6, 12, 18, 24, 30, 36, 42, 48, 54, 60)"
      ]
     },
     "execution_count": 53,
     "metadata": {},
     "output_type": "execute_result"
    }
   ],
   "source": [
    "tabla(6)"
   ]
  },
  {
   "cell_type": "markdown",
   "id": "10a1d473",
   "metadata": {},
   "source": [
    "Notar: en esencia, para que sea una tabla de multiplicación querríamos que la función anterior esté definida para números naturales, pero no es lo que definimos hasta ahora.\n",
    "Para esto tendremos que introducir otros elementos, en particular, las **sentencias condicionales**"
   ]
  },
  {
   "cell_type": "code",
   "execution_count": 54,
   "id": "9f65bdb3",
   "metadata": {},
   "outputs": [
    {
     "data": {
      "text/plain": [
       "('a',\n",
       " 'aa',\n",
       " 'aaa',\n",
       " 'aaaa',\n",
       " 'aaaaa',\n",
       " 'aaaaaa',\n",
       " 'aaaaaaa',\n",
       " 'aaaaaaaa',\n",
       " 'aaaaaaaaa',\n",
       " 'aaaaaaaaaa')"
      ]
     },
     "execution_count": 54,
     "metadata": {},
     "output_type": "execute_result"
    }
   ],
   "source": [
    "#Qué pasa si evaluamos un string? (PRÓXIMO APARTADO)\n",
    "tabla(\"a\")"
   ]
  },
  {
   "cell_type": "markdown",
   "id": "5a4d408a",
   "metadata": {},
   "source": [
    "Hasta ahora definimos funciones a las que les damos un único argumento, pero podríamos darle más de uno: "
   ]
  },
  {
   "cell_type": "code",
   "execution_count": 55,
   "id": "1249eb23",
   "metadata": {},
   "outputs": [],
   "source": [
    "def producto(x,y): \n",
    "    return x*y"
   ]
  },
  {
   "cell_type": "code",
   "execution_count": 56,
   "id": "07507e3a",
   "metadata": {},
   "outputs": [
    {
     "data": {
      "text/plain": [
       "120"
      ]
     },
     "execution_count": 56,
     "metadata": {},
     "output_type": "execute_result"
    }
   ],
   "source": [
    "producto(40,3)"
   ]
  },
  {
   "cell_type": "markdown",
   "id": "a79a441d",
   "metadata": {},
   "source": [
    "# <center> CONTROL DE FLUJO\n",
    "### Sentencias condicionales: if, elif, else\n",
    "\n",
    "La sintaxis Python para la ejecución condicional de código usa las palabras clave `if`, `elif` (else if), `else`:\n",
    "    \n",
    "- Sentencia if: Permite ejecutar un bloque de código si una condición es verdadera.\n",
    "\n",
    "- Sentencia else: Se utiliza junto con if para ejecutar un bloque de código cuando la condición no es verdadera.\n",
    " \n",
    "- Sentencia elif: Se usa para evaluar múltiples condiciones en orden y ejecutar el bloque de código de la primera condición verdadera.\n",
    "    \n",
    "    \n",
    "La sintaxis requiere la **indentación** para el correcto funcionamiento del condicional. En general, el editor ya la realiza automáticamente, pero si copiamos código de otro lado puede que no se copie correctamente. En ese caso, para indentar hay que dejar 4 espacios.   "
   ]
  },
  {
   "cell_type": "code",
   "execution_count": 57,
   "id": "ae969fb7",
   "metadata": {},
   "outputs": [],
   "source": [
    "def edad_lab(edad):\n",
    "    if edad >= 18 and edad < 65:\n",
    "        print(\"Estás en edad laboral.\")\n",
    "    elif edad >= 65:\n",
    "        print(\"Eres un adulto mayor.\")\n",
    "    else:\n",
    "        print(\"Aún no eres un adulto.\")"
   ]
  },
  {
   "cell_type": "code",
   "execution_count": 58,
   "id": "c5a71e2c",
   "metadata": {},
   "outputs": [
    {
     "name": "stdout",
     "output_type": "stream",
     "text": [
      "Aún no eres un adulto.\n"
     ]
    }
   ],
   "source": [
    "edad_lab(15)"
   ]
  },
  {
   "cell_type": "markdown",
   "id": "08a873bf",
   "metadata": {},
   "source": [
    "Los condicionales anteriores serán muy relevantes para **los bucles** (clase que viene). "
   ]
  },
  {
   "cell_type": "markdown",
   "id": "7eef8965",
   "metadata": {},
   "source": [
    "# <center> MÓDULOS\n",
    "    \n",
    "La mayoría de la funcionalidad en Python se encuentran en *módulos*. \n",
    "Para usar un módulo en un programa Python éste debe primero ser **importado**, para lo cual se usa el comando `import`."
   ]
  },
  {
   "cell_type": "code",
   "execution_count": 59,
   "id": "62c2bb3d",
   "metadata": {},
   "outputs": [],
   "source": [
    "#Como dijimos, sin usar librerías, no podemos calcular algunas funciones sencillas (como ln)\n",
    "# Para eso debemos importar el módulo math\n",
    "\n",
    "import math as ma\n"
   ]
  },
  {
   "cell_type": "markdown",
   "id": "b34c9a73",
   "metadata": {},
   "source": [
    "La abreviatura de los nombres de los módulos cuando se importan en Python se hace por conveniencia.\n",
    "\n",
    "Algunos módulos como `numpy` o `pandas`, son relativamente largos de escribir y tienen abreviaturas comunes. "
   ]
  },
  {
   "cell_type": "code",
   "execution_count": 60,
   "id": "34f0e725",
   "metadata": {},
   "outputs": [],
   "source": [
    "#Ese no es el caso para math, así que importemoslo como math\n",
    "import math\n"
   ]
  },
  {
   "cell_type": "markdown",
   "id": "66641990",
   "metadata": {},
   "source": [
    "Podría interesarnos saber qué símbolos hay dentro de un módulo, para lo que usaremos la función `dir`"
   ]
  },
  {
   "cell_type": "code",
   "execution_count": 61,
   "id": "16ae6ee4",
   "metadata": {},
   "outputs": [
    {
     "data": {
      "text/plain": [
       "['__doc__',\n",
       " '__loader__',\n",
       " '__name__',\n",
       " '__package__',\n",
       " '__spec__',\n",
       " 'acos',\n",
       " 'acosh',\n",
       " 'asin',\n",
       " 'asinh',\n",
       " 'atan',\n",
       " 'atan2',\n",
       " 'atanh',\n",
       " 'cbrt',\n",
       " 'ceil',\n",
       " 'comb',\n",
       " 'copysign',\n",
       " 'cos',\n",
       " 'cosh',\n",
       " 'degrees',\n",
       " 'dist',\n",
       " 'e',\n",
       " 'erf',\n",
       " 'erfc',\n",
       " 'exp',\n",
       " 'exp2',\n",
       " 'expm1',\n",
       " 'fabs',\n",
       " 'factorial',\n",
       " 'floor',\n",
       " 'fmod',\n",
       " 'frexp',\n",
       " 'fsum',\n",
       " 'gamma',\n",
       " 'gcd',\n",
       " 'hypot',\n",
       " 'inf',\n",
       " 'isclose',\n",
       " 'isfinite',\n",
       " 'isinf',\n",
       " 'isnan',\n",
       " 'isqrt',\n",
       " 'lcm',\n",
       " 'ldexp',\n",
       " 'lgamma',\n",
       " 'log',\n",
       " 'log10',\n",
       " 'log1p',\n",
       " 'log2',\n",
       " 'modf',\n",
       " 'nan',\n",
       " 'nextafter',\n",
       " 'perm',\n",
       " 'pi',\n",
       " 'pow',\n",
       " 'prod',\n",
       " 'radians',\n",
       " 'remainder',\n",
       " 'sin',\n",
       " 'sinh',\n",
       " 'sqrt',\n",
       " 'tan',\n",
       " 'tanh',\n",
       " 'tau',\n",
       " 'trunc',\n",
       " 'ulp']"
      ]
     },
     "execution_count": 61,
     "metadata": {},
     "output_type": "execute_result"
    }
   ],
   "source": [
    "dir(math)"
   ]
  },
  {
   "cell_type": "markdown",
   "id": "b470e7d8",
   "metadata": {},
   "source": [
    "Para saber qué hace cada función podríamos usar `help`. No siempre estará definido, pero en general sí lo estará. "
   ]
  },
  {
   "cell_type": "code",
   "execution_count": 62,
   "id": "fd55ff14",
   "metadata": {},
   "outputs": [
    {
     "name": "stdout",
     "output_type": "stream",
     "text": [
      "Help on built-in function tan in module math:\n",
      "\n",
      "tan(x, /)\n",
      "    Return the tangent of x (measured in radians).\n",
      "\n"
     ]
    }
   ],
   "source": [
    "help(math.tan)"
   ]
  },
  {
   "cell_type": "code",
   "execution_count": 63,
   "id": "0fdeab9b",
   "metadata": {},
   "outputs": [
    {
     "data": {
      "text/plain": [
       "0.0"
      ]
     },
     "execution_count": 63,
     "metadata": {},
     "output_type": "execute_result"
    }
   ],
   "source": [
    "#Usemos un poco el módulo math, notar que debo poner math. antes de lo que quiero hacer\n",
    "math.log(1)"
   ]
  },
  {
   "cell_type": "code",
   "execution_count": 64,
   "id": "7a3c5316",
   "metadata": {},
   "outputs": [
    {
     "data": {
      "text/plain": [
       "2.718281828459045"
      ]
     },
     "execution_count": 64,
     "metadata": {},
     "output_type": "execute_result"
    }
   ],
   "source": [
    "math.exp(1)"
   ]
  },
  {
   "cell_type": "code",
   "execution_count": 65,
   "id": "dfb47464",
   "metadata": {},
   "outputs": [
    {
     "data": {
      "text/plain": [
       "3.141592653589793"
      ]
     },
     "execution_count": 65,
     "metadata": {},
     "output_type": "execute_result"
    }
   ],
   "source": [
    "math.pi"
   ]
  },
  {
   "cell_type": "markdown",
   "id": "1766a982",
   "metadata": {},
   "source": [
    "# <CENTER> EJERCICIOS \n",
    "\n",
    "   ### Para resolver en grupo: \n",
    "    \n",
    "   ### Elijan una de las siguientes tareas: \n",
    "- **IVA:** Calcule el precio neto de un bien, sabiendo que el precio conocido incluye un IVA del 21%.\n",
    "\n",
    "    \n",
    "- **Inmobiliario:** Calcule el impuesto inmobiliario para una propiedad, sabiendo que este depende de la valuación fiscal. Si la valuación es hasta \\\\$1000, se paga un 1\\% sobre la valuación fiscal.  Si la valuación es mayor a \\\\$1000, se paga un fijo de \\\\$10 y 1.5\\% por el excedente sobre \\\\$1000.\n",
    "    \n",
    "    \n",
    "- **Tarifa de electricidad:** Para tener servicio de electricidad el hogar debe pagar un cargo fijo de \\\\$5000. Adicionalmente, si el consumo es menor a 400Kwh, el precio es de 25 por Kwh consumido, pero si alcanza o supera este umbral, el precio pasa a ser de 50 por Kwh (para la totalidad del consumo).     \n",
    "\n",
    "\n",
    "- **ABL:** El ABL a pagar por una propiedad será el mayor entre el 1\\% de la valuación fiscal o \\\\$50 por metro de frente. \n",
    "    \n",
    "        "
   ]
  }
 ],
 "metadata": {
  "kernelspec": {
   "display_name": "Python 3 (ipykernel)",
   "language": "python",
   "name": "python3"
  },
  "language_info": {
   "codemirror_mode": {
    "name": "ipython",
    "version": 3
   },
   "file_extension": ".py",
   "mimetype": "text/x-python",
   "name": "python",
   "nbconvert_exporter": "python",
   "pygments_lexer": "ipython3",
   "version": "3.11.3"
  }
 },
 "nbformat": 4,
 "nbformat_minor": 5
}
