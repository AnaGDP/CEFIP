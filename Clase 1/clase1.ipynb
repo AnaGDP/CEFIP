{
 "cells": [
  {
   "cell_type": "markdown",
   "id": "2b6c62d7",
   "metadata": {},
   "source": [
    "#  <CENTER>INTRODUCCIÓN A PYTHON - CEFIP<CENTER>\n",
    "   \n",
    "## <CENTER>OCTUBRE 2023<CENTER>"
   ]
  },
  {
   "cell_type": "markdown",
   "id": "4a4f6a14",
   "metadata": {},
   "source": [
    "# <CENTER> JUPYTER NOTEBOOK\n",
    "\n",
    "***Jupyter Notebook*** es amigable para trabajar y permite combinar celdas de código (margen izquierdo verde) con celdas de texto (azul). Esto puede ser muy útil para presentar la información. \n",
    "Las celdas de texto (Markdown) permiten poner énfasis: \n",
    "# Hacer el texto más grande..\n",
    "## Mediano\n",
    "**Negrita** \n",
    "\n",
    "*Cursiva*\n",
    "\n",
    "- [x] Checkbox\n",
    "\n",
    "Podemos poner links:\n",
    "[link_a_cheatsheet](https://sqlbak.com/blog/wp-content/uploads/2020/12/Jupyter-Notebook-Markdown-Cheatsheet2.pdf)\n",
    "\n",
    "Esto resulta útil en el momento de pensar en que el código sea entendido no solo por nosotros en el momento sino también en el futuro y por otros. Adicionalmente, jupyter permite **imprimir el notebook** (o guardar el pdf) con lo cual trabajar con celdas de texto puede ser útil para que quede cómodo al ver (print preview). \n"
   ]
  },
  {
   "cell_type": "markdown",
   "id": "01afcc3c",
   "metadata": {},
   "source": [
    "# <CENTER> PRIMEROS PASOS\n",
    "\n",
    "Comencemos con el típico mensaje de \"Hola Mundo\""
   ]
  },
  {
   "cell_type": "code",
   "execution_count": null,
   "id": "c71e98bb",
   "metadata": {},
   "outputs": [],
   "source": [
    "print(\"Hola Mundo\")"
   ]
  },
  {
   "cell_type": "code",
   "execution_count": null,
   "id": "970ca704",
   "metadata": {},
   "outputs": [],
   "source": [
    "#Notar1: necesito poner comillas para hacer referencia a un texto, pero no para un número. \n",
    "#Notar2: también puedo comentar en las celdas de código usando el #\n",
    "print(3)"
   ]
  },
  {
   "cell_type": "markdown",
   "id": "f85eaa2e",
   "metadata": {},
   "source": [
    "Como ya sabemos, lo anterior tiene que ver con que Python, al igual que otros lenguajes, diferencia entre **tipos de datos**. Veamos algunos ejemplos:\n",
    "\n",
    "- ***Evalúe el tipo de dato de 3, 3.0, \"CEFIP\" en la misma celda.***"
   ]
  },
  {
   "cell_type": "code",
   "execution_count": null,
   "id": "975633d9",
   "metadata": {},
   "outputs": [],
   "source": [
    "type(3)"
   ]
  },
  {
   "cell_type": "code",
   "execution_count": null,
   "id": "72e75d71",
   "metadata": {},
   "outputs": [],
   "source": [
    "type(3.0)"
   ]
  },
  {
   "cell_type": "code",
   "execution_count": null,
   "id": "81a620d0",
   "metadata": {},
   "outputs": [],
   "source": [
    "type(\"CEFIP\")"
   ]
  },
  {
   "cell_type": "markdown",
   "id": "a6fb1574",
   "metadata": {},
   "source": [
    "Evalúe ahora si la veracidad de varias situaciones: \n",
    "- Si 3 y 3.0 son lo mismo.\n",
    "- Si 3 y \"3.0\" son lo mismo.\n",
    "- \"CEFIP\" y 'CEFIP' son lo mismo. \n",
    "- \"CEFIP\" y \" CEFIP \" son lo mismo. \n",
    "- \"CEFIP\" y \"cefip\" son lo mismo. "
   ]
  },
  {
   "cell_type": "code",
   "execution_count": null,
   "id": "868a2f7b",
   "metadata": {},
   "outputs": [],
   "source": [
    "3==3.0"
   ]
  },
  {
   "cell_type": "code",
   "execution_count": null,
   "id": "75ef33fd",
   "metadata": {},
   "outputs": [],
   "source": [
    "3==\"3\""
   ]
  },
  {
   "cell_type": "code",
   "execution_count": null,
   "id": "5032cfcd",
   "metadata": {},
   "outputs": [],
   "source": [
    "\"cefip\"==\"CEFIP\""
   ]
  },
  {
   "cell_type": "code",
   "execution_count": null,
   "id": "7a57f5f6",
   "metadata": {},
   "outputs": [],
   "source": [
    "\"CEFIP\"==\" CEFIP \""
   ]
  },
  {
   "cell_type": "code",
   "execution_count": null,
   "id": "8c146945",
   "metadata": {},
   "outputs": [],
   "source": [
    "\"CEFIP\"=='CEFIP'"
   ]
  },
  {
   "cell_type": "markdown",
   "id": "f6b00fbe",
   "metadata": {},
   "source": [
    "# <CENTER>OPERACIONES SENCILLAS "
   ]
  },
  {
   "cell_type": "markdown",
   "id": "119b68d0",
   "metadata": {},
   "source": [
    "La mayoría de los operadores y las comparaciones en Python funcionan como se esperaría:\n",
    "\n",
    "* Operadores aritméticos `+`, `-`, `*`, `/`, `//` (división entera), '**' potencia"
   ]
  },
  {
   "cell_type": "code",
   "execution_count": null,
   "id": "d82a3f7d",
   "metadata": {},
   "outputs": [],
   "source": [
    "print(4+5)"
   ]
  },
  {
   "cell_type": "code",
   "execution_count": null,
   "id": "4b32767f",
   "metadata": {},
   "outputs": [],
   "source": [
    "#No necesito poner print para ver la operación si es lo único que hago\n",
    "17+7"
   ]
  },
  {
   "cell_type": "code",
   "execution_count": null,
   "id": "26ef685b",
   "metadata": {},
   "outputs": [],
   "source": [
    "#La potencia es el único operador que se hace un poco distinto: \n",
    "5**2\n"
   ]
  },
  {
   "cell_type": "code",
   "execution_count": null,
   "id": "3bdc04e6",
   "metadata": {},
   "outputs": [],
   "source": [
    "#Podemos usar el operador + para concatenar:   \n",
    "\n",
    "\"Hola\" + \" \" + \"Mundo\""
   ]
  },
  {
   "cell_type": "code",
   "execution_count": null,
   "id": "977bf8ab",
   "metadata": {},
   "outputs": [],
   "source": [
    "#Y qué pasa si multiplicamos strings: \n",
    "\"CEFIP \"*5"
   ]
  },
  {
   "cell_type": "markdown",
   "id": "7816a56a",
   "metadata": {},
   "source": [
    "## Adicionalmente, podemos tener operadores booleanos o lógicos \n",
    "\n",
    "- Se utiliza para realizar operaciones lógicas entre dos o más valores booleanos (verdadero o falso). \n",
    "\n",
    "- Estos operadores permiten combinar condiciones o expresiones booleanas para obtener un resultado basado en la lógica."
   ]
  },
  {
   "cell_type": "code",
   "execution_count": null,
   "id": "ea616437",
   "metadata": {},
   "outputs": [],
   "source": [
    "True or False "
   ]
  },
  {
   "cell_type": "code",
   "execution_count": null,
   "id": "d2e8b6fe",
   "metadata": {},
   "outputs": [],
   "source": [
    "True and False"
   ]
  },
  {
   "cell_type": "code",
   "execution_count": null,
   "id": "a3cf3670",
   "metadata": {},
   "outputs": [],
   "source": [
    "not True "
   ]
  },
  {
   "cell_type": "markdown",
   "id": "e2339d83",
   "metadata": {},
   "source": [
    "**No a todas las operaciones que a nosotros nos resultan básicas se pueden llamar directamente en Python (ejemplo logaritmo natural)**"
   ]
  },
  {
   "cell_type": "markdown",
   "id": "8f1e161d",
   "metadata": {},
   "source": [
    "## Operadores de comparación: \n",
    " `>`, `<`, `>=` (mayor o igual), `<=` (menor o igual), `==` igualdad, `es` idéntico.\n"
   ]
  },
  {
   "cell_type": "code",
   "execution_count": null,
   "id": "8b838892",
   "metadata": {},
   "outputs": [],
   "source": [
    "2>1"
   ]
  },
  {
   "cell_type": "code",
   "execution_count": null,
   "id": "3b563ba5",
   "metadata": {},
   "outputs": [],
   "source": [
    "2 >= 2, 2 <2"
   ]
  },
  {
   "cell_type": "markdown",
   "id": "6f6ec69e",
   "metadata": {},
   "source": [
    "# <center>VARIABLES\n",
    "    \n",
    "    \n",
    "**Recordar que los nombres de las variables:**    \n",
    "- Pueden contener solamente letras (mayúsculas y minúsculas), números, y guión bajo; todas las letras deben pertenecer al código de caracteres ASCII básico, y no contener caracteres extendidos\n",
    "- El primer carácter no puede ser un número\n",
    "- Si bien no es obligatorio, siempre es recomendable que las variables tengan nombres cortos y descriptivos del contenido    \n",
    "- Las palabras reservadas del lenguaje no pueden usarse como identificadores, estas son:\n",
    "    \n",
    "    `and, as, assert, break, class, continue, def, del, elif, else, except,\n",
    "    exec, finally, for, from, global, if, import, in, is, lambda, not, or,\n",
    "    pass, print, raise, return, try, while, with, yield`\n",
    " \n",
    "    \n",
    "\n",
    "    \n",
    " "
   ]
  },
  {
   "cell_type": "code",
   "execution_count": null,
   "id": "dccfdaea",
   "metadata": {},
   "outputs": [],
   "source": [
    "#¿Qué pasa si le asignamos un valor prohibido a una variable? --> Error\n",
    "\n",
    "lambda=1"
   ]
  },
  {
   "cell_type": "code",
   "execution_count": null,
   "id": "a0aaaaa2",
   "metadata": {},
   "outputs": [],
   "source": [
    "18=21"
   ]
  },
  {
   "cell_type": "code",
   "execution_count": null,
   "id": "c09bddf3",
   "metadata": {},
   "outputs": [],
   "source": [
    "a=1\n",
    "type(a)"
   ]
  },
  {
   "cell_type": "code",
   "execution_count": null,
   "id": "27e90e38",
   "metadata": {},
   "outputs": [],
   "source": [
    "m=2.2\n",
    "type(m)"
   ]
  },
  {
   "cell_type": "code",
   "execution_count": null,
   "id": "067a8945",
   "metadata": {},
   "outputs": [],
   "source": [
    "a=\"Hola\"\n",
    "type(a)"
   ]
  },
  {
   "cell_type": "code",
   "execution_count": null,
   "id": "51d186b0",
   "metadata": {},
   "outputs": [],
   "source": [
    "b=a+a\n",
    "print(b)"
   ]
  },
  {
   "cell_type": "code",
   "execution_count": null,
   "id": "8d83428c",
   "metadata": {},
   "outputs": [],
   "source": [
    "c=10\n",
    "d=c+5\n",
    "print(d)"
   ]
  },
  {
   "cell_type": "code",
   "execution_count": null,
   "id": "d84ab8a0",
   "metadata": {},
   "outputs": [],
   "source": [
    "# números complejos: note que se usa `j` para especificar la parte imaginaria\n",
    "x = 1.0 - 1.0j\n",
    "type(x)"
   ]
  },
  {
   "cell_type": "code",
   "execution_count": null,
   "id": "683b3af1",
   "metadata": {},
   "outputs": [],
   "source": [
    "print(x.real, x.imag)"
   ]
  },
  {
   "cell_type": "code",
   "execution_count": null,
   "id": "c54361ef",
   "metadata": {},
   "outputs": [],
   "source": [
    "# Como dijimos, las variables pueden hacer referencia a listas por ejemplo: \n",
    "Lista=[1,2,3]\n",
    "print(\"Esta era la lista original:\", Lista)\n",
    "#a esta lista le puedo sumar elementos, usando el comando append o con atajos: \n",
    "Lista.append(4)\n",
    "Lista +=[5]\n",
    "print(\"Esta es la lista ahora:\", Lista)"
   ]
  },
  {
   "cell_type": "markdown",
   "id": "48e812b8",
   "metadata": {},
   "source": [
    "## Podemos convertir el tipo de variable:"
   ]
  },
  {
   "cell_type": "code",
   "execution_count": null,
   "id": "458a93e1",
   "metadata": {},
   "outputs": [],
   "source": [
    "m=int(m)\n",
    "print(m, type(m))"
   ]
  },
  {
   "cell_type": "code",
   "execution_count": null,
   "id": "a94ac56c",
   "metadata": {},
   "outputs": [],
   "source": [
    "# Podemos hacer lo anterior con un número complejo? Intentemos, utilizando el mismo método\n",
    "x=int(x)\n",
    "print(x, type(x))\n"
   ]
  },
  {
   "cell_type": "markdown",
   "id": "7a593660",
   "metadata": {},
   "source": [
    "Como vemos, un número complejo **no puede ser convertido a un número flotante o a un entero**. Necesitamos usar `z.real`, o bien `z.imag`, para extraer la parte que deseamos del número complejo z:"
   ]
  },
  {
   "cell_type": "code",
   "execution_count": null,
   "id": "30976426",
   "metadata": {},
   "outputs": [],
   "source": [
    "y=x.real\n",
    "print(y, type(y))"
   ]
  },
  {
   "cell_type": "markdown",
   "id": "7766fbd8",
   "metadata": {},
   "source": [
    "## Tipos compuestos: cadenas, listas, tuplas\n",
    "\n",
    "### Cadenas\n",
    "\n",
    "Las cadenas (strings) son el tipo de variables que usamos para almacenar texto.\n"
   ]
  },
  {
   "cell_type": "code",
   "execution_count": null,
   "id": "65e58574",
   "metadata": {},
   "outputs": [],
   "source": [
    "#Podemos ver distintos atributos, como por ejemplo la longitud de una cadena:\n",
    "m= \"Hola Mundo\"\n",
    "len(m)"
   ]
  },
  {
   "cell_type": "code",
   "execution_count": null,
   "id": "601603d5",
   "metadata": {},
   "outputs": [],
   "source": [
    "#También podemos reemplazar parte de una cadena: \n",
    "m= m.replace(\"Mundo\", \"participantes\")\n",
    "print(m)\n",
    "\n",
    "#También podemos sumar caracteres (recordar que la concatenación la hacíamos con +): \n",
    "m=m+(\" del curso de Python del CEFIP\")\n",
    "print(m)\n"
   ]
  },
  {
   "cell_type": "code",
   "execution_count": null,
   "id": "5c11fc9f",
   "metadata": {},
   "outputs": [],
   "source": [
    "#Dentro de una cadena también podemos quedarnos con una parte (a esto se lo llama slicing): \n",
    "\n",
    "#RECORDAR: En Python empezamos a contar desde la posición 0:\n",
    "\n",
    "m[0:4]\n",
    "#Notan algo raro con respecto a esto?"
   ]
  },
  {
   "cell_type": "code",
   "execution_count": null,
   "id": "89d7e494",
   "metadata": {},
   "outputs": [],
   "source": [
    "\n",
    "#si en cambio, además del inicio y el fin indicamos un paso (step)\n",
    "cadena=\"abcdefg12345678\"\n",
    "porcion=cadena[0:14:5]\n",
    "print(porcion)\n"
   ]
  },
  {
   "cell_type": "markdown",
   "id": "68eacf6b",
   "metadata": {},
   "source": [
    "- Usando la sintaxis `[desde:hasta]`, extraemos caracteres entre los índices  `desde` y `hasta` **sin incluir el elemento con índice `hasta'**.\n",
    "- Si omitimos `desde` o bien `hasta` de `[desde:hasta]`, por defecto se entiende que se refiere al comienzo y/o al fin de la cadena.\n",
    "- Si omitimos el valor del paso (sintaxis `[desde:hasta:paso]`, como en el ejemplo anterior) este será 1 por defecto.\n",
    "- También podemos usar números negativos, con lo cual va a comenzar a contar desde el final hasta la posición que le indiquemos. \n"
   ]
  },
  {
   "cell_type": "code",
   "execution_count": null,
   "id": "f4630f42",
   "metadata": {
    "scrolled": true
   },
   "outputs": [],
   "source": [
    "nombre_sigla=\"Centro de Estudios en Finanzas Públicas CEFIP\"\n",
    "\n",
    "sigla=nombre_sigla[-5:]\n",
    "print(sigla)"
   ]
  },
  {
   "cell_type": "markdown",
   "id": "90f84035",
   "metadata": {},
   "source": [
    "### **Listas**\n",
    "- Como ya vimos, la sintaxis implica que los elementos de la lista se encuentran entre `[..., ..., ...]`. \n",
    "- Los elementos dentro de una lista pueden ser de distintos tipos. \n",
    "- Su clase será lista. \n",
    "- Podemos usar las técnicas de slicing como vimos con las cadenas. \n",
    "- Serán de gran utilidad para usar en bucles y otras estructuras de control. \n",
    "- Las listas pueden incluso estar compuestas por listas. "
   ]
  },
  {
   "cell_type": "code",
   "execution_count": null,
   "id": "100844af",
   "metadata": {},
   "outputs": [],
   "source": [
    "lista=[1,2.0,\"a\",True]\n",
    "type(lista)"
   ]
  },
  {
   "cell_type": "code",
   "execution_count": null,
   "id": "5767e2e3",
   "metadata": {},
   "outputs": [],
   "source": [
    "#Podemos crear listas vacías y sumarles elementos: \n",
    "MyList=[]\n",
    "MyList.append(\"a\")\n",
    "MyList=MyList+[1]\n",
    "MyList+=[2.0]\n",
    "print(MyList)\n",
    "len(MyList)"
   ]
  },
  {
   "cell_type": "code",
   "execution_count": null,
   "id": "fbc8cd79",
   "metadata": {},
   "outputs": [],
   "source": [
    "#También podemos sumar un elemento en una posición específica: \n",
    "MyList.insert(1, \"Hola\")\n",
    "print(MyList)\n"
   ]
  },
  {
   "cell_type": "code",
   "execution_count": null,
   "id": "dfe5edfe",
   "metadata": {},
   "outputs": [],
   "source": [
    "#También podemos eliminar un elemento: \n",
    "MyList.remove(\"a\")\n",
    "print(MyList)\n",
    "#O eliminar un elemento de una posición específica: \n",
    "del MyList[2]\n",
    "print(MyList)"
   ]
  },
  {
   "cell_type": "markdown",
   "id": "9f1344a1",
   "metadata": {},
   "source": [
    "- La función `range()` en Python se utiliza para generar una secuencia de números enteros en un rango específico. \n",
    "- La utilidad principal de `range()` es crear iteradores que se pueden utilizar en bucles.\n",
    "- Genera un interador, que puede ser convertido a una lista usando 'list(...)'"
   ]
  },
  {
   "cell_type": "code",
   "execution_count": null,
   "id": "447aab37",
   "metadata": {},
   "outputs": [],
   "source": [
    "desde = 10\n",
    "hasta = 30\n",
    "paso = 2\n",
    "\n",
    "list(range(desde, hasta, paso))\n"
   ]
  },
  {
   "cell_type": "markdown",
   "id": "10b5be33",
   "metadata": {},
   "source": [
    "\n",
    "\n",
    "###  Tuplas\n",
    "Son similares a las listas, pero una vez creadas no pueden ser modificadas, son *inmutables*.\n",
    "\n",
    "La sintaxis para su creación es `..., ..., ...`:"
   ]
  },
  {
   "cell_type": "code",
   "execution_count": null,
   "id": "47cb8727",
   "metadata": {},
   "outputs": [],
   "source": [
    "tupla=10, 20, 30\n",
    "print(tupla)"
   ]
  },
  {
   "cell_type": "code",
   "execution_count": null,
   "id": "1ba8569a",
   "metadata": {},
   "outputs": [],
   "source": [
    "#Si le tratamos de sumar nuevos elementos:\n",
    "tupla.append(5)"
   ]
  },
  {
   "cell_type": "code",
   "execution_count": null,
   "id": "5193fdbf",
   "metadata": {},
   "outputs": [],
   "source": [
    "#Se puede transformar una tupla en una lista: \n",
    "lista = list(tupla)\n",
    "print(lista)"
   ]
  },
  {
   "cell_type": "markdown",
   "id": "44d91efc",
   "metadata": {},
   "source": [
    "Lo que hicimos antes es un ejemplo de lo que se conoce como **casting** o conversión de tipos. \n",
    "\n",
    "Es una operación común en Python donde cambias el tipo de dato de una variable a otro. "
   ]
  },
  {
   "cell_type": "markdown",
   "id": "9afebae8",
   "metadata": {},
   "source": [
    "# <center>FUNCIONES\n",
    "    \n",
    "Las funciones son el equivalent a los programas en Stata.     \n",
    "    \n",
    "Una función es definida usando la palabra `def`, seguida de un nombre para la función, una variable entre paréntesis `()`, y el símbolo de dos puntos `:`. El siguiente código representa el cuerpo de la función y requiere un nivel adicional de indentación."
   ]
  },
  {
   "cell_type": "code",
   "execution_count": null,
   "id": "d0d66296",
   "metadata": {},
   "outputs": [],
   "source": [
    "def printWord (palabra) : \n",
    " print(\"La palabra elegida fue \"+ palabra)"
   ]
  },
  {
   "cell_type": "code",
   "execution_count": null,
   "id": "3f757ed6",
   "metadata": {
    "scrolled": false
   },
   "outputs": [],
   "source": [
    "printWord(\"impuestos\")"
   ]
  },
  {
   "cell_type": "markdown",
   "id": "91a70f11",
   "metadata": {},
   "source": [
    "Puede ser buena idea **describir el propósito y comportamiento de la función**. Esto se llama docstring, y es incluido directamente después de la definición de la función, antes del código en el cuerpo de la función.\n",
    "\n",
    "Por otro lado, la palabra `return` tiene un significado especial en el contexto de las funciones, para funciones que retornan un valor"
   ]
  },
  {
   "cell_type": "code",
   "execution_count": null,
   "id": "c6ad3de6",
   "metadata": {},
   "outputs": [],
   "source": [
    "def cuadrado(x):\n",
    "    \"\"\"\n",
    "    Devuelve el valor de x al cuadrado.\n",
    "    \"\"\"\n",
    "    return x**2"
   ]
  },
  {
   "cell_type": "code",
   "execution_count": null,
   "id": "ab2b291d",
   "metadata": {},
   "outputs": [],
   "source": [
    "cuadrado(52)"
   ]
  },
  {
   "cell_type": "code",
   "execution_count": null,
   "id": "42d941c8",
   "metadata": {},
   "outputs": [],
   "source": [
    "help(cuadrado)"
   ]
  },
  {
   "cell_type": "code",
   "execution_count": null,
   "id": "639eab5b",
   "metadata": {},
   "outputs": [],
   "source": [
    "def tabla(x):\n",
    "    \"\"\"\n",
    "    Calcula la tabla de multiplicación de x.\n",
    "    \"\"\"\n",
    "    return x, x*2, x*3, x*4, x*5, x*6, x*7, x*8, x*9, x*10"
   ]
  },
  {
   "cell_type": "code",
   "execution_count": null,
   "id": "39371af7",
   "metadata": {},
   "outputs": [],
   "source": [
    "tabla(6)"
   ]
  },
  {
   "cell_type": "markdown",
   "id": "10a1d473",
   "metadata": {},
   "source": [
    "Notar: en esencia, para que sea una tabla de multiplicación querríamos que la función anterior esté definida para números naturales, pero no es lo que definimos hasta ahora.\n",
    "Para esto tendremos que introducir otros elementos, en particular, las **sentencias condicionales**"
   ]
  },
  {
   "cell_type": "code",
   "execution_count": null,
   "id": "9f65bdb3",
   "metadata": {},
   "outputs": [],
   "source": [
    "#Qué pasa si evaluamos un string? (PRÓXIMO APARTADO)\n",
    "tabla(\"a\")"
   ]
  },
  {
   "cell_type": "markdown",
   "id": "5a4d408a",
   "metadata": {},
   "source": [
    "Hasta ahora definimos funciones a las que les damos un único argumento, pero podríamos darle más de uno: "
   ]
  },
  {
   "cell_type": "code",
   "execution_count": null,
   "id": "1249eb23",
   "metadata": {},
   "outputs": [],
   "source": [
    "def producto(x,y): \n",
    "    return x*y"
   ]
  },
  {
   "cell_type": "code",
   "execution_count": null,
   "id": "07507e3a",
   "metadata": {},
   "outputs": [],
   "source": [
    "producto(40,3)"
   ]
  },
  {
   "cell_type": "markdown",
   "id": "a79a441d",
   "metadata": {},
   "source": [
    "# <center> CONTROL DE FLUJO\n",
    "### Sentencias condicionales: if, elif, else\n",
    "\n",
    "La sintaxis Python para la ejecución condicional de código usa las palabras clave `if`, `elif` (else if), `else`:\n",
    "    \n",
    "- Sentencia if: Permite ejecutar un bloque de código si una condición es verdadera.\n",
    "\n",
    "- Sentencia else: Se utiliza junto con if para ejecutar un bloque de código cuando la condición no es verdadera.\n",
    " \n",
    "- Sentencia elif: Se usa para evaluar múltiples condiciones en orden y ejecutar el bloque de código de la primera condición verdadera.\n",
    "    \n",
    "    \n",
    "La sintaxis requiere la **indentación** para el correcto funcionamiento del condicional. En general, el editor ya la realiza automáticamente, pero si copiamos código de otro lado puede que no se copie correctamente. En ese caso, para indentar hay que dejar 4 espacios.   "
   ]
  },
  {
   "cell_type": "code",
   "execution_count": null,
   "id": "161a4460",
   "metadata": {},
   "outputs": [],
   "source": [
    "def edad_lab(edad):\n",
    "    if edad >= 18 and edad < 65:\n",
    "        print(\"Estás en edad laboral.\")\n",
    "    elif edad >= 65:\n",
    "        print(\"Eres un adulto mayor.\")\n",
    "    else:\n",
    "        print(\"Aún no eres un adulto.\")"
   ]
  },
  {
   "cell_type": "code",
   "execution_count": null,
   "id": "ff94e984",
   "metadata": {},
   "outputs": [],
   "source": [
    "edad_lab(15)"
   ]
  },
  {
   "cell_type": "markdown",
   "id": "0d1f2afc",
   "metadata": {},
   "source": [
    "Los condicionales anteriores serán muy relevantes para **los bucles** (clase que viene). "
   ]
  },
  {
   "cell_type": "markdown",
   "id": "37bca53c",
   "metadata": {},
   "source": [
    "# <center> MÓDULOS\n",
    "    \n",
    "La mayoría de la funcionalidad en Python se encuentran en *módulos*. \n",
    "Para usar un módulo en un programa Python éste debe primero ser **importado**, para lo cual se usa el comando `import`."
   ]
  },
  {
   "cell_type": "code",
   "execution_count": null,
   "id": "24aac5ae",
   "metadata": {},
   "outputs": [],
   "source": [
    "#Como dijimos, sin usar librerías, no podemos calcular algunas funciones sencillas (como ln)\n",
    "# Para eso debemos importar el módulo math\n",
    "\n",
    "import math as ma\n"
   ]
  },
  {
   "cell_type": "markdown",
   "id": "4ac86c74",
   "metadata": {},
   "source": [
    "La abreviatura de los nombres de los módulos cuando se importan en Python se hace por conveniencia.\n",
    "\n",
    "Algunos módulos como `numpy` o `pandas`, son relativamente largos de escribir y tienen abreviaturas comunes. "
   ]
  },
  {
   "cell_type": "code",
   "execution_count": null,
   "id": "068db469",
   "metadata": {},
   "outputs": [],
   "source": [
    "#Ese no es el caso para math, así que importemoslo como math\n",
    "import math\n"
   ]
  },
  {
   "cell_type": "markdown",
   "id": "58507667",
   "metadata": {},
   "source": [
    "Podría interesarnos saber qué símbolos hay dentro de un módulo, para lo que usaremos la función `dir`"
   ]
  },
  {
   "cell_type": "code",
   "execution_count": null,
   "id": "f441100a",
   "metadata": {},
   "outputs": [],
   "source": [
    "dir(math)"
   ]
  },
  {
   "cell_type": "markdown",
   "id": "b20bb04a",
   "metadata": {},
   "source": [
    "Para saber qué hace cada función podríamos usar `help`. No siempre estará definido, pero en general sí lo estará. "
   ]
  },
  {
   "cell_type": "code",
   "execution_count": null,
   "id": "4de92252",
   "metadata": {},
   "outputs": [],
   "source": [
    "help(math.tan)"
   ]
  },
  {
   "cell_type": "code",
   "execution_count": null,
   "id": "59898be8",
   "metadata": {},
   "outputs": [],
   "source": [
    "#Usemos un poco el módulo math, notar que debo poner math. antes de lo que quiero hacer\n",
    "math.log(1)"
   ]
  },
  {
   "cell_type": "code",
   "execution_count": null,
   "id": "d6389e23",
   "metadata": {},
   "outputs": [],
   "source": [
    "math.exp(1)"
   ]
  },
  {
   "cell_type": "code",
   "execution_count": null,
   "id": "00f574cb",
   "metadata": {},
   "outputs": [],
   "source": [
    "math.pi"
   ]
  },
  {
   "cell_type": "markdown",
   "id": "1766a982",
   "metadata": {},
   "source": [
    "# <CENTER> EJERCICIOS \n",
    "\n",
    "   ### Para resolver en grupo: \n",
    "    \n",
    "   ### Elijan una de las siguientes tareas: \n",
    "- **IVA:** Calcule el precio neto de un bien, sabiendo que el precio conocido incluye un IVA del 21%.\n",
    "\n",
    "    \n",
    "- **Inmobiliario:** Calcule el impuesto inmobiliario para una propiedad, sabiendo que este depende de la valuación fiscal. Si la valuación es hasta \\\\$1000, se paga un 1\\% sobre la valuación fiscal.  Si la valuación es mayor a \\\\$1000, se paga un fijo de \\\\$10 y 1.5\\% por el excedente sobre \\\\$1000.\n",
    "    \n",
    "    \n",
    "- **Tarifa de electricidad:** Para tener servicio de electricidad el hogar debe pagar un cargo fijo de \\\\$5000. Adicionalmente, si el consumo es menor a 400Kwh, el precio es de 25 por Kwh consumido, pero si alcanza o supera este umbral, el precio pasa a ser de 50 por Kwh (para la totalidad del consumo).     \n",
    "\n",
    "\n",
    "- **ABL:** El ABL a pagar por una propiedad será el mayor entre el 1\\% de la valuación fiscal o \\\\$50 por metro de frente. \n",
    "    \n",
    "        "
   ]
  }
 ],
 "metadata": {
  "kernelspec": {
   "display_name": "Python 3 (ipykernel)",
   "language": "python",
   "name": "python3"
  },
  "language_info": {
   "codemirror_mode": {
    "name": "ipython",
    "version": 3
   },
   "file_extension": ".py",
   "mimetype": "text/x-python",
   "name": "python",
   "nbconvert_exporter": "python",
   "pygments_lexer": "ipython3",
   "version": "3.11.5"
  }
 },
 "nbformat": 4,
 "nbformat_minor": 5
}
